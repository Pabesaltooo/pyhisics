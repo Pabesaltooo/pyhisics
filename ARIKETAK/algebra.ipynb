{
 "cells": [
  {
   "cell_type": "code",
   "execution_count": 1,
   "metadata": {},
   "outputs": [],
   "source": [
    "import sys\n",
    "import os\n",
    "\n",
    "# Agregar la ruta del proyecto (ajusta si tu estructura es diferente)\n",
    "sys.path.insert(0, os.path.abspath('..'))"
   ]
  },
  {
   "cell_type": "code",
   "execution_count": 2,
   "metadata": {},
   "outputs": [],
   "source": [
    "\n",
    "# Ahora prueba importar tu librería\n",
    "from IPython.display import display, Latex\n",
    "from pyhsics import *\n",
    "from math import cos, sin, radians, sqrt\n",
    "\n",
    "def mostrar_multiplicacion(A: Matrix, B: Matrix, C: Matrix):\n",
    "    BC = B*C\n",
    "    return Latex(f'${A.latex()}\\\\cdot {B.latex()} \\\\cdot {C.latex()} = {A.latex()}\\\\cdot {(BC).latex()} = {(A * BC).latex()}$')\n",
    "    "
   ]
  },
  {
   "cell_type": "code",
   "execution_count": 3,
   "metadata": {},
   "outputs": [],
   "source": [
    "e1 = Vector([1,0,0])\n",
    "e2 = Vector([0,1,0])\n",
    "e3 = Vector([0,0,1])\n",
    "\n",
    "M_b = Matrix([\n",
    "    [0,1,0],\n",
    "    [1,2,-1],\n",
    "    [0,-1,0]\n",
    "])\n",
    "\n",
    "def b(v: Vector,w: Vector, M: Matrix = M_b) -> Scalar:\n",
    "    return (v.T * M * w)"
   ]
  },
  {
   "cell_type": "code",
   "execution_count": 4,
   "metadata": {},
   "outputs": [
    {
     "ename": "NameError",
     "evalue": "name 'symbols' is not defined",
     "output_type": "error",
     "traceback": [
      "\u001b[31m---------------------------------------------------------------------------\u001b[39m",
      "\u001b[31mNameError\u001b[39m                                 Traceback (most recent call last)",
      "\u001b[36mCell\u001b[39m\u001b[36m \u001b[39m\u001b[32mIn[4]\u001b[39m\u001b[32m, line 2\u001b[39m\n\u001b[32m      1\u001b[39m v = e2 \u001b[38;5;28;01mif\u001b[39;00m b(e2,e2) \u001b[38;5;28;01melse\u001b[39;00m Vector.zeros(\u001b[32m3\u001b[39m)\n\u001b[32m----> \u001b[39m\u001b[32m2\u001b[39m X = Vector(\u001b[43msymbols\u001b[49m(\u001b[33m'\u001b[39m\u001b[33mx y z\u001b[39m\u001b[33m'\u001b[39m))\n\u001b[32m      4\u001b[39m w1, w2, w3 = v, Vector([\u001b[32m1\u001b[39m,\u001b[32m0\u001b[39m,\u001b[32m1\u001b[39m]), Vector([\u001b[32m0\u001b[39m,\u001b[32m1\u001b[39m,\u001b[32m2\u001b[39m])\n\u001b[32m      6\u001b[39m beta = [w1, w2, w3]\n",
      "\u001b[31mNameError\u001b[39m: name 'symbols' is not defined"
     ]
    }
   ],
   "source": [
    "v = e2 if b(e2,e2) else Vector.zeros(3)\n",
    "X = Vector(symbols('x y z'))\n",
    "\n",
    "w1, w2, w3 = v, Vector([1,0,1]), Vector([0,1,2])\n",
    "\n",
    "beta = [w1, w2, w3]\n",
    "\n",
    "Matrix([[b(w,w).value if i == j else 0 for j in range(len(beta))] for i, w in enumerate(beta)])"
   ]
  },
  {
   "cell_type": "code",
   "execution_count": null,
   "metadata": {},
   "outputs": [
    {
     "ename": "NameError",
     "evalue": "name 'symbols' is not defined",
     "output_type": "error",
     "traceback": [
      "\u001b[31m---------------------------------------------------------------------------\u001b[39m",
      "\u001b[31mNameError\u001b[39m                                 Traceback (most recent call last)",
      "\u001b[36mCell\u001b[39m\u001b[36m \u001b[39m\u001b[32mIn[7]\u001b[39m\u001b[32m, line 9\u001b[39m\n\u001b[32m      1\u001b[39m A = Matrix([\n\u001b[32m      2\u001b[39m     [\u001b[32m1\u001b[39m,\u001b[32m0\u001b[39m,\u001b[32m0\u001b[39m,\u001b[32m0\u001b[39m],\n\u001b[32m      3\u001b[39m [\u001b[32m0\u001b[39m,\u001b[32m1\u001b[39m,\u001b[32m2\u001b[39m,-\u001b[32m1\u001b[39m],\n\u001b[32m      4\u001b[39m [\u001b[32m0\u001b[39m,\u001b[32m2\u001b[39m,\u001b[32m0\u001b[39m,\u001b[32m0\u001b[39m],\n\u001b[32m      5\u001b[39m [\u001b[32m0\u001b[39m,-\u001b[32m1\u001b[39m,\u001b[32m0\u001b[39m,-\u001b[32m1\u001b[39m]])\n\u001b[32m      7\u001b[39m W = [Vector([\u001b[32m0\u001b[39m,\u001b[32m0\u001b[39m,\u001b[32m1\u001b[39m,\u001b[32m0\u001b[39m]), Vector([\u001b[32m1\u001b[39m,\u001b[32m1\u001b[39m,\u001b[32m0\u001b[39m,\u001b[32m0\u001b[39m])]\n\u001b[32m----> \u001b[39m\u001b[32m9\u001b[39m X = Vector(\u001b[43msymbols\u001b[49m(\u001b[33m'\u001b[39m\u001b[33mx y z t\u001b[39m\u001b[33m'\u001b[39m))\n\u001b[32m     10\u001b[39m eq1 = (X.T * A * W[\u001b[32m0\u001b[39m])\n\u001b[32m     11\u001b[39m eq2 = (X.T * A * W[\u001b[32m1\u001b[39m]).value\n",
      "\u001b[31mNameError\u001b[39m: name 'symbols' is not defined"
     ]
    }
   ],
   "source": [
    "A = Matrix([\n",
    "    [1,0,0,0],\n",
    "[0,1,2,-1],\n",
    "[0,2,0,0],\n",
    "[0,-1,0,-1]])\n",
    "\n",
    "W = [Vector([0,0,1,0]), Vector([1,1,0,0])]\n",
    "\n",
    "X = Vector(symbols('x y z t'))\n",
    "eq1 = (X.T * A * W[0])\n",
    "eq2 = (X.T * A * W[1]).value\n",
    "\n",
    "print(f'{eq1} = 0')\n",
    "print(f'{eq2} = 0')\n",
    "\n",
    "# De las ecuaciones sacamos los vectores de W^⊥\n",
    "W_T = [Vector([1,0,0,1]), Vector([0,0,1,2])]\n",
    "\n",
    "if not Matrix.from_vecs(W+W_T).rg == 4:\n",
    "    raise\n",
    "\n",
    "W[0].T*A*W[1]\n",
    "\n",
    "for v in W_T:\n",
    "    (v.T * A * v).display_latex()"
   ]
  },
  {
   "cell_type": "code",
   "execution_count": null,
   "metadata": {},
   "outputs": [
    {
     "ename": "NameError",
     "evalue": "name 'eq2' is not defined",
     "output_type": "error",
     "traceback": [
      "\u001b[31m---------------------------------------------------------------------------\u001b[39m",
      "\u001b[31mNameError\u001b[39m                                 Traceback (most recent call last)",
      "\u001b[36mCell\u001b[39m\u001b[36m \u001b[39m\u001b[32mIn[8]\u001b[39m\u001b[32m, line 1\u001b[39m\n\u001b[32m----> \u001b[39m\u001b[32m1\u001b[39m \u001b[43meq2\u001b[49m\n",
      "\u001b[31mNameError\u001b[39m: name 'eq2' is not defined"
     ]
    }
   ],
   "source": [
    "eq2"
   ]
  },
  {
   "cell_type": "code",
   "execution_count": null,
   "metadata": {},
   "outputs": [
    {
     "data": {
      "text/plain": [
       "{Vector((1, 1)), Vector((1, 2))}"
      ]
     },
     "execution_count": 9,
     "metadata": {},
     "output_type": "execute_result"
    }
   ],
   "source": [
    "v1, v2 = Vector([1,1]), Vector([1,2])\n",
    "\n",
    "{v1, v2}"
   ]
  },
  {
   "cell_type": "code",
   "execution_count": null,
   "metadata": {},
   "outputs": [
    {
     "data": {
      "text/plain": [
       "{Vector((-2, 0, 1, -3)),\n",
       " Vector((0, 1, 0, 0)),\n",
       " Vector((0, 1, 1, 1)),\n",
       " Vector((1, 0, 1, 1))}"
      ]
     },
     "execution_count": 10,
     "metadata": {},
     "output_type": "execute_result"
    }
   ],
   "source": [
    "v1 = Vector([1,0,1,1])\n",
    "v2 = Vector([0,1,1,1])\n",
    "v3 = Vector([-2, 0, 1, -3])\n",
    "v4 = Vector([0,1,0,0])\n",
    "\n",
    "{v1, v2, v3, v4}"
   ]
  },
  {
   "cell_type": "code",
   "execution_count": null,
   "metadata": {},
   "outputs": [
    {
     "ename": "NameError",
     "evalue": "name 'w1' is not defined",
     "output_type": "error",
     "traceback": [
      "\u001b[31m---------------------------------------------------------------------------\u001b[39m",
      "\u001b[31mNameError\u001b[39m                                 Traceback (most recent call last)",
      "\u001b[36mCell\u001b[39m\u001b[36m \u001b[39m\u001b[32mIn[11]\u001b[39m\u001b[32m, line 1\u001b[39m\n\u001b[32m----> \u001b[39m\u001b[32m1\u001b[39m \u001b[38;5;28mset\u001b[39m([\u001b[43mw1\u001b[49m, w2, (w2), \u001b[32m5\u001b[39m*w1])\n",
      "\u001b[31mNameError\u001b[39m: name 'w1' is not defined"
     ]
    }
   ],
   "source": [
    "set([w1, w2, (w2), 5*w1])"
   ]
  },
  {
   "cell_type": "code",
   "execution_count": null,
   "metadata": {},
   "outputs": [
    {
     "ename": "NameError",
     "evalue": "name 'symbols' is not defined",
     "output_type": "error",
     "traceback": [
      "\u001b[31m---------------------------------------------------------------------------\u001b[39m",
      "\u001b[31mNameError\u001b[39m                                 Traceback (most recent call last)",
      "\u001b[36mCell\u001b[39m\u001b[36m \u001b[39m\u001b[32mIn[12]\u001b[39m\u001b[32m, line 1\u001b[39m\n\u001b[32m----> \u001b[39m\u001b[32m1\u001b[39m x = \u001b[43msymbols\u001b[49m(\u001b[33m'\u001b[39m\u001b[33mx\u001b[39m\u001b[33m'\u001b[39m)\n\u001b[32m      2\u001b[39m I = Matrix.eye(\u001b[32m3\u001b[39m)\n\u001b[32m      3\u001b[39m A = Matrix([[\u001b[32m1\u001b[39m,\u001b[32m1\u001b[39m,\u001b[32m1\u001b[39m],[\u001b[32m2\u001b[39m,\u001b[32m1\u001b[39m,\u001b[32m3\u001b[39m], [\u001b[32m1\u001b[39m,\u001b[32m0\u001b[39m,\u001b[32m1\u001b[39m]])\n",
      "\u001b[31mNameError\u001b[39m: name 'symbols' is not defined"
     ]
    }
   ],
   "source": [
    "x = symbols('x')\n",
    "I = Matrix.eye(3)\n",
    "A = Matrix([[1,1,1],[2,1,3], [1,0,1]])\n",
    "X_A = Expression([Term(I, {Symbol('x'):1}), Term(-A)])\n",
    "(X_A).terms"
   ]
  },
  {
   "cell_type": "code",
   "execution_count": null,
   "metadata": {},
   "outputs": [
    {
     "data": {
      "text/latex": [
       "$\\begin{pmatrix} 0 & 1 \\\\ 0 & 0 \\end{pmatrix}$"
      ],
      "text/plain": [
       "Matrix([0  1.0]\n",
       "[0  0.0])"
      ]
     },
     "execution_count": 5,
     "metadata": {},
     "output_type": "execute_result"
    }
   ],
   "source": [
    "l = LinearSistem([ # Zuzen Afina\n",
    "    [0, 1, 0, 0],\n",
    "    [1, 0,-1, 0],\n",
    "    [0, 0, 1,-1]],\n",
    "    [0,-1,0], 'LES')\n",
    "\n",
    "H = LinearSistem([ # Hiperplano\n",
    "    [1,0,-1,-1]], [0], 'LES')\n",
    "\n",
    "S1 = LinearSistem([ # Plano Afina\n",
    "    [1, 1,-1, 0],\n",
    "    [1, 0, 0,-1]],\n",
    "    [0,0], 'LES')\n",
    "\n",
    "S2 = LinearSistem([ # Plano afina \n",
    "    [1, 0,  2,  0],\n",
    "    [1, 0, -1, -1]],\n",
    "    [0, 0])\n",
    "\n",
    "A = Matrix([[0,4],[0,2]])\n",
    "A_ = A.reduced_row_echelon_form()\n",
    "\n",
    "A.reduced_row_echelon_form()"
   ]
  },
  {
   "cell_type": "code",
   "execution_count": null,
   "metadata": {},
   "outputs": [],
   "source": [
    "Poly.from_coeffs([1,2,3,4,5,6]).roots()"
   ]
  },
  {
   "cell_type": "code",
   "execution_count": null,
   "metadata": {},
   "outputs": [
    {
     "data": {
      "text/latex": [
       "$\\begin{pmatrix} 0.5 \\\\ -0.25 \\\\ 0.25 \\\\ 0.25 \\end{pmatrix}$"
      ],
      "text/plain": [
       "Vector((0.5, -0.25, 0.25, 0.25))"
      ]
     },
     "execution_count": 6,
     "metadata": {},
     "output_type": "execute_result"
    }
   ],
   "source": [
    "LinearSistem([\n",
    "    [1,1,-1,0],\n",
    "    [1,1,0,-1],\n",
    "    [1,0,-1,-1],\n",
    "    [1,0,2,0]],\n",
    "    [0,0,0,1]).solve()\n",
    "\n"
   ]
  },
  {
   "cell_type": "code",
   "execution_count": null,
   "metadata": {},
   "outputs": [
    {
     "data": {
      "text/plain": [
       "4"
      ]
     },
     "execution_count": 7,
     "metadata": {},
     "output_type": "execute_result"
    }
   ],
   "source": [
    "Matrix([\n",
    "    [0,1,0,0],\n",
    "    [1,0,1,0],\n",
    "    [1,0,0,1],\n",
    "    [1,0,1,1]]).rg"
   ]
  },
  {
   "cell_type": "code",
   "execution_count": null,
   "metadata": {},
   "outputs": [
    {
     "data": {
      "text/plain": [
       "4"
      ]
     },
     "execution_count": 8,
     "metadata": {},
     "output_type": "execute_result"
    }
   ],
   "source": [
    "Matrix([[0, 1, 0, 0],\n",
    "              [1, 0,-1, 0],\n",
    "              [1, 0, 0,-1],\n",
    "              [1, 0,-1,-1]]).rg"
   ]
  },
  {
   "cell_type": "code",
   "execution_count": null,
   "metadata": {},
   "outputs": [],
   "source": [
    "M_beta = Matrix([[1,1],[1,2]])\n",
    "M_beta_ = M_beta.inv()\n",
    "\n",
    "M_b = Matrix([[-1,1],[0,1]])\n",
    "\n"
   ]
  },
  {
   "cell_type": "code",
   "execution_count": null,
   "metadata": {},
   "outputs": [
    {
     "ename": "NameError",
     "evalue": "name 'symbols' is not defined",
     "output_type": "error",
     "traceback": [
      "\u001b[31m---------------------------------------------------------------------------\u001b[39m",
      "\u001b[31mNameError\u001b[39m                                 Traceback (most recent call last)",
      "\u001b[36mCell\u001b[39m\u001b[36m \u001b[39m\u001b[32mIn[10]\u001b[39m\u001b[32m, line 8\u001b[39m\n\u001b[32m      5\u001b[39m k1 = Vector([\u001b[32m1\u001b[39m,\u001b[32m0\u001b[39m,\u001b[32m1\u001b[39m]) \n\u001b[32m      6\u001b[39m k2 = Vector([\u001b[32m0\u001b[39m,\u001b[32m1\u001b[39m,\u001b[32m2\u001b[39m]) \n\u001b[32m----> \u001b[39m\u001b[32m8\u001b[39m x,y,z = \u001b[43msymbols\u001b[49m(\u001b[33m'\u001b[39m\u001b[33m \u001b[39m\u001b[33m'\u001b[39m.join(\u001b[33mf\u001b[39m\u001b[33m'\u001b[39m\u001b[33mx_\u001b[39m\u001b[38;5;132;01m{\u001b[39;00mi\u001b[38;5;132;01m}\u001b[39;00m\u001b[33m'\u001b[39m \u001b[38;5;28;01mfor\u001b[39;00m i \u001b[38;5;129;01min\u001b[39;00m \u001b[38;5;28mrange\u001b[39m(\u001b[32m3\u001b[39m)))\n\u001b[32m     10\u001b[39m (M_bil * Vector([x,y,z]))\n",
      "\u001b[31mNameError\u001b[39m: name 'symbols' is not defined"
     ]
    }
   ],
   "source": [
    "M_bil = Matrix([[0,1,0], \n",
    "                [1,2,-1],\n",
    "                [0,-1,0]])\n",
    "\n",
    "k1 = Vector([1,0,1]) \n",
    "k2 = Vector([0,1,2]) \n",
    "\n",
    "x,y,z = symbols(' '.join(f'x_{i}' for i in range(3)))\n",
    "\n",
    "(M_bil * Vector([x,y,z]))"
   ]
  },
  {
   "cell_type": "code",
   "execution_count": null,
   "metadata": {},
   "outputs": [
    {
     "data": {
      "text/latex": [
       "$\\text{kg}$"
      ],
      "text/plain": [
       "<IPython.core.display.Latex object>"
      ]
     },
     "metadata": {},
     "output_type": "display_data"
    },
    {
     "data": {
      "text/latex": [
       "$\\text{kg}$"
      ],
      "text/plain": []
     },
     "execution_count": 11,
     "metadata": {},
     "output_type": "execute_result"
    }
   ],
   "source": [
    "Unit('kg')"
   ]
  },
  {
   "cell_type": "code",
   "execution_count": null,
   "metadata": {},
   "outputs": [
    {
     "ename": "NameError",
     "evalue": "name 'Symbol' is not defined",
     "output_type": "error",
     "traceback": [
      "\u001b[31m---------------------------------------------------------------------------\u001b[39m",
      "\u001b[31mNameError\u001b[39m                                 Traceback (most recent call last)",
      "\u001b[36mCell\u001b[39m\u001b[36m \u001b[39m\u001b[32mIn[12]\u001b[39m\u001b[32m, line 1\u001b[39m\n\u001b[32m----> \u001b[39m\u001b[32m1\u001b[39m x = \u001b[43mSymbol\u001b[49m(\u001b[33m\"\u001b[39m\u001b[33mx\u001b[39m\u001b[33m\"\u001b[39m)\n\u001b[32m      2\u001b[39m y = Symbol(\u001b[33m\"\u001b[39m\u001b[33my\u001b[39m\u001b[33m\"\u001b[39m)\n\u001b[32m      3\u001b[39m A = Symbol(\u001b[33m\"\u001b[39m\u001b[33mA\u001b[39m\u001b[33m\"\u001b[39m, kind=\u001b[33m\"\u001b[39m\u001b[33mMatrix\u001b[39m\u001b[33m\"\u001b[39m)  \u001b[38;5;66;03m# Modo “matriz”\u001b[39;00m\n",
      "\u001b[31mNameError\u001b[39m: name 'Symbol' is not defined"
     ]
    }
   ],
   "source": [
    "x = Symbol(\"x\")\n",
    "y = Symbol(\"y\")\n",
    "A = Symbol(\"A\", kind=\"Matrix\")  # Modo “matriz”\n",
    "v = Symbol('v', kind='Vector')\n",
    "z = Symbol(\"z\")\n",
    "\n",
    "t1 = Term(3, {x: 2, y: 1})   # 3*x^2*y\n",
    "t2 = Term(5, {z: 1})         # 5*z\n",
    "\n",
    "expr1 = Expression([t1])     # 3x^2y\n",
    "expr2 = Expression([t2])     # 5z\n",
    "\n",
    "print(\"expr1 =\", expr1)       # 3 * x^2 * y\n",
    "print(\"expr2 =\", expr2)       # 5 * z\n",
    "\n",
    "# Suma\n",
    "expr_sum = expr1 + expr2\n",
    "print(\"expr_sum =\", expr_sum) # 3*x^2*y + 5*z\n",
    "\n",
    "# Multiplicación\n",
    "expr_mul = expr1 * expr2\n",
    "print(\"expr_mul =\", expr_mul) # (3*x^2*y) * (5*z) => 15*x^2*y*z\n",
    "\n",
    "# Sumar un término que coincide en la parte simbólica\n",
    "t3 = Term(2, {x:2, y:1})     # 2*x^2*y\n",
    "expr_sum2 = expr1 + t3\n",
    "print(\"expr_sum2 =\", expr_sum2)  # 5*x^2*y  (se combina en la simplificación)\n"
   ]
  },
  {
   "cell_type": "code",
   "execution_count": null,
   "metadata": {},
   "outputs": [
    {
     "ename": "TypeError",
     "evalue": "Matrix.reduced_row_echelon_form() takes 1 positional argument but 2 were given",
     "output_type": "error",
     "traceback": [
      "\u001b[31m---------------------------------------------------------------------------\u001b[39m",
      "\u001b[31mTypeError\u001b[39m                                 Traceback (most recent call last)",
      "\u001b[36mCell\u001b[39m\u001b[36m \u001b[39m\u001b[32mIn[13]\u001b[39m\u001b[32m, line 2\u001b[39m\n\u001b[32m      1\u001b[39m A = Matrix([[\u001b[32m1\u001b[39m,\u001b[32m1\u001b[39m,\u001b[32m2\u001b[39m,\u001b[32m3\u001b[39m],[\u001b[32m2\u001b[39m,\u001b[32m2\u001b[39m,\u001b[32m0\u001b[39m,\u001b[32m1\u001b[39m],[\u001b[32m1\u001b[39m,\u001b[32m0\u001b[39m,\u001b[32m0\u001b[39m,\u001b[32m4\u001b[39m],[\u001b[32m0\u001b[39m,\u001b[32m1\u001b[39m,\u001b[32m0\u001b[39m,\u001b[32m0\u001b[39m]])\n\u001b[32m----> \u001b[39m\u001b[32m2\u001b[39m M = \u001b[43mA\u001b[49m\u001b[43m.\u001b[49m\u001b[43mreduced_row_echelon_form\u001b[49m\u001b[43m(\u001b[49m\u001b[38;5;28;43;01mTrue\u001b[39;49;00m\u001b[43m)\u001b[49m\n\u001b[32m      4\u001b[39m Mb = Matrix([[\u001b[32m1\u001b[39m,\u001b[32m1\u001b[39m],[\u001b[32m1\u001b[39m,\u001b[32m2\u001b[39m]])\n\u001b[32m      5\u001b[39m h1 = Matrix([[\u001b[32m2\u001b[39m,-\u001b[32m3\u001b[39m],[-\u001b[32m1\u001b[39m,\u001b[32m2\u001b[39m]])\n",
      "\u001b[31mTypeError\u001b[39m: Matrix.reduced_row_echelon_form() takes 1 positional argument but 2 were given"
     ]
    }
   ],
   "source": [
    "A = Matrix([[1,1,2,3],[2,2,0,1],[1,0,0,4],[0,1,0,0]])\n",
    "M = A.reduced_row_echelon_form(True)\n",
    "\n",
    "Mb = Matrix([[1,1],[1,2]])\n",
    "h1 = Matrix([[2,-3],[-1,2]])\n",
    "Mb_ = Mb.inv()\n"
   ]
  },
  {
   "cell_type": "code",
   "execution_count": null,
   "metadata": {},
   "outputs": [
    {
     "data": {
      "text/latex": [
       "$\\begin{pmatrix}  \\\\  \\\\  \\\\  \\end{pmatrix}$"
      ],
      "text/plain": [
       "Matrix([]\n",
       "[]\n",
       "[]\n",
       "[])"
      ]
     },
     "execution_count": 14,
     "metadata": {},
     "output_type": "execute_result"
    }
   ],
   "source": [
    "A.inv()"
   ]
  },
  {
   "cell_type": "code",
   "execution_count": null,
   "metadata": {},
   "outputs": [
    {
     "data": {
      "text/plain": [
       "3"
      ]
     },
     "execution_count": 15,
     "metadata": {},
     "output_type": "execute_result"
    }
   ],
   "source": [
    "Matrix([[1,1,2],[2,2,0],[1,0,0]]).rg"
   ]
  },
  {
   "cell_type": "code",
   "execution_count": null,
   "metadata": {},
   "outputs": [],
   "source": [
    "from typing import List\n",
    "from dataclasses import dataclass\n",
    "from math import isclose\n",
    "\n",
    "# Definición de la clase BilinealForm\n",
    "@dataclass\n",
    "class BilinealForm:\n",
    "    M: Matrix  # La matriz de la forma bilineal\n",
    "    \n",
    "    def ortogonal_base(self) -> List[Vector]:\n",
    "        n, _ = self.M.shape\n",
    "        non_isotropic_vecs: List[Vector] = []\n",
    "        \n",
    "        # Encuentra vectores no isotrópicos (que no son ortogonales a sí mismos)\n",
    "        for i in range(n):\n",
    "            for j in range(n):\n",
    "                if self.M[i][j] != 0:  # Si el coeficiente no es 0, podría ser candidato\n",
    "                    non_isotropic_vecs.append(Vector([float(self.M[i][j]) for j in range(n)]))\n",
    "        \n",
    "        # Usamos Gram-Schmidt para hacer una base ortogonal\n",
    "        ortogonal_base = self.gram_schmidt(non_isotropic_vecs)\n",
    "        return ortogonal_base\n",
    "    \n",
    "    def gram_schmidt(self, vectors: List[Vector]) -> List[Vector]:\n",
    "        # Implementación de Gram-Schmidt\n",
    "        ortogonal_base: List[Vector] = []\n",
    "        for v in vectors:\n",
    "            for u in ortogonal_base:\n",
    "                proj = self.projection(v, u)\n",
    "                v = self.subtract(v, proj)\n",
    "            ortogonal_base.append(v)\n",
    "        return ortogonal_base\n",
    "    \n",
    "    def projection(self, v: Vector, u: Vector) -> Vector:\n",
    "        # Proyección de v sobre u: (v . u) / (u . u) * u\n",
    "        scalar = self.dot_product(v, u) / self.dot_product(u, u)\n",
    "        return self.multiply_vector(u, scalar)\n",
    "    \n",
    "    def dot_product(self, v: Vector, w: Vector) -> Scalar:\n",
    "        # Producto punto (usando la forma bilineal)\n",
    "        return Scalar(sum(v[i] * self.M[i][j] * w[j] for i in range(len(v)) for j in range(len(w))))\n",
    "    \n",
    "    def multiply_vector(self, u: Vector, scalar: Scalar) -> Vector:\n",
    "        # Multiplicación de un vector por un escalar\n",
    "        return Vector([(u[i] * scalar).value for i in range(len(u))])\n",
    "    \n",
    "    def subtract(self, v: Vector, w: Vector) -> Vector:\n",
    "        # Resta de dos vectores\n",
    "        return Vector([v[i] - w[i] for i in range(len(v))])\n",
    "    \n",
    "    def are_ortogonal(self, v: Vector, w: Vector) -> bool:\n",
    "        if len(v) != len(w):\n",
    "            raise ValueError(\"Los vectores deben tener la misma longitud.\")\n",
    "        return isclose(self.dot_product(v, w), 0)\n",
    "    \n",
    "    def get_ortogonal_vec(self, v: Vector) -> Vector:\n",
    "        # Resolvemos x.T * M * v = 0 para encontrar el ortogonal\n",
    "        # Para este ejemplo, resolveremos una simple ecuación que buscamos\n",
    "        from sympy import symbols, Eq, solve\n",
    "        \n",
    "        x = symbols('x1 x2 x3')  # Esto depende de la dimensión de v\n",
    "        eq = Eq(self.dot_product(v, Vector([x])), 0)\n",
    "        solution = solve(eq, x)\n",
    "        return Vector([solution[i] for i in range(len(solution))])\n",
    "    \n",
    "    @property\n",
    "    def signature(self):\n",
    "        vecs = self.ortogonal_base()\n",
    "        pos = sum((v.T() * self.M * v).is_zero() for v in vecs)  # Usar det para matrices 1x1\n",
    "        neg = sum((v.T() * self.M * v).is_zero() for v in vecs)\n",
    "        null = sum((v.T() * self.M * v).is_zero() for v in vecs)\n",
    "        \n",
    "        return (pos, neg + null)\n"
   ]
  },
  {
   "cell_type": "code",
   "execution_count": null,
   "metadata": {},
   "outputs": [],
   "source": [
    "A = Matrix([[1,2,3],\n",
    "           [1,3,1],\n",
    "           [0,1,2]])\n",
    "b = Vector([1,2,0])\n",
    "LinearSistem(A,b, 'MS')"
   ]
  },
  {
   "cell_type": "code",
   "execution_count": null,
   "metadata": {},
   "outputs": [
    {
     "data": {
      "text/latex": [
       "$-21$"
      ],
      "text/plain": [
       "Vector((-21))"
      ]
     },
     "execution_count": 5,
     "metadata": {},
     "output_type": "execute_result"
    }
   ],
   "source": [
    "Mb = Matrix([[3,-2],[-2,-1]])\n",
    "\n",
    "v = Vector([2, 3])\n",
    "\n",
    "v.T * Mb*v"
   ]
  },
  {
   "cell_type": "code",
   "execution_count": null,
   "metadata": {},
   "outputs": [
    {
     "ename": "AttributeError",
     "evalue": "type object 'Vector' has no attribute 'unit_vecs'",
     "output_type": "error",
     "traceback": [
      "\u001b[31m---------------------------------------------------------------------------\u001b[39m",
      "\u001b[31mAttributeError\u001b[39m                            Traceback (most recent call last)",
      "\u001b[36mCell\u001b[39m\u001b[36m \u001b[39m\u001b[32mIn[6]\u001b[39m\u001b[32m, line 2\u001b[39m\n\u001b[32m      1\u001b[39m v = Vector([\u001b[32m1\u001b[39m, \u001b[32m3\u001b[39m])\n\u001b[32m----> \u001b[39m\u001b[32m2\u001b[39m e1 = \u001b[43mVector\u001b[49m\u001b[43m.\u001b[49m\u001b[43munit_vecs\u001b[49m(\u001b[38;5;28mlen\u001b[39m(v))[\u001b[32m0\u001b[39m]\n\u001b[32m      3\u001b[39m Mb = Matrix([[\u001b[32m3\u001b[39m,-\u001b[32m1\u001b[39m],[-\u001b[32m1\u001b[39m,\u001b[32m1\u001b[39m]])\n\u001b[32m      4\u001b[39m b = BilinealForm(Mb)\n",
      "\u001b[31mAttributeError\u001b[39m: type object 'Vector' has no attribute 'unit_vecs'"
     ]
    }
   ],
   "source": [
    "v = Vector([1, 3])\n",
    "e1 = Vector.unit_vecs(len(v))[0]\n",
    "Mb = Matrix([[3,-1],[-1,1]])\n",
    "b = BilinealForm(Mb)\n",
    "print(\n",
    "f'Ortogonal e1 _|_ v: {b.are_ortogonal(e1, v)}',\n",
    "f'v·v = {b.dot_product(v,v)}',\n",
    "f'e1·e1 = {b.dot_product(e1,e1)}', sep='\\n'\n",
    ")"
   ]
  },
  {
   "cell_type": "code",
   "execution_count": 5,
   "metadata": {},
   "outputs": [
    {
     "ename": "NameError",
     "evalue": "name 'BilinealForm' is not defined",
     "output_type": "error",
     "traceback": [
      "\u001b[31m---------------------------------------------------------------------------\u001b[39m",
      "\u001b[31mNameError\u001b[39m                                 Traceback (most recent call last)",
      "\u001b[36mCell\u001b[39m\u001b[36m \u001b[39m\u001b[32mIn[5]\u001b[39m\u001b[32m, line 4\u001b[39m\n\u001b[32m      2\u001b[39m e1 = Vector.unit_vecs(\u001b[38;5;28mlen\u001b[39m(v))[\u001b[32m0\u001b[39m]\n\u001b[32m      3\u001b[39m Mb = Matrix([[\u001b[32m2\u001b[39m,-\u001b[32m1\u001b[39m],[-\u001b[32m1\u001b[39m,\u001b[32m3\u001b[39m]])\n\u001b[32m----> \u001b[39m\u001b[32m4\u001b[39m b = \u001b[43mBilinealForm\u001b[49m(Mb)\n\u001b[32m      5\u001b[39m \u001b[38;5;28mprint\u001b[39m(\n\u001b[32m      6\u001b[39m \u001b[33mf\u001b[39m\u001b[33m'\u001b[39m\u001b[33mOrtogonal e1 _|_ v: \u001b[39m\u001b[38;5;132;01m{\u001b[39;00mb.are_ortogonal(e1,\u001b[38;5;250m \u001b[39mv)\u001b[38;5;132;01m}\u001b[39;00m\u001b[33m'\u001b[39m,\n\u001b[32m      7\u001b[39m \u001b[33mf\u001b[39m\u001b[33m'\u001b[39m\u001b[33mv·v = \u001b[39m\u001b[38;5;132;01m{\u001b[39;00mb.dot_product(v,v)\u001b[38;5;132;01m}\u001b[39;00m\u001b[33m'\u001b[39m,\n\u001b[32m      8\u001b[39m \u001b[33mf\u001b[39m\u001b[33m'\u001b[39m\u001b[33me1·e1 = \u001b[39m\u001b[38;5;132;01m{\u001b[39;00mb.dot_product(e1,e1)\u001b[38;5;132;01m}\u001b[39;00m\u001b[33m'\u001b[39m, sep=\u001b[33m'\u001b[39m\u001b[38;5;130;01m\\n\u001b[39;00m\u001b[33m'\u001b[39m\n\u001b[32m      9\u001b[39m )\n",
      "\u001b[31mNameError\u001b[39m: name 'BilinealForm' is not defined"
     ]
    }
   ],
   "source": [
    "v = Vector([1, 2])\n",
    "e1 = Vector.unit_vecs(len(v))[0]\n",
    "Mb = Matrix([[2,-1],[-1,3]])\n",
    "b = BilinealForm(Mb)\n",
    "print(\n",
    "f'Ortogonal e1 _|_ v: {b.are_ortogonal(e1, v)}',\n",
    "f'v·v = {b.dot_product(v,v)}',\n",
    "f'e1·e1 = {b.dot_product(e1,e1)}', sep='\\n'\n",
    ")"
   ]
  },
  {
   "cell_type": "code",
   "execution_count": null,
   "metadata": {},
   "outputs": [],
   "source": [
    "v = Vector([2, 1])\n",
    "e1 = Vector.unit_vecs(len(v))[0]\n",
    "Mb = Matrix([[-1,2],[2,1]])\n",
    "b = BilinealForm(Mb)\n",
    "print(\n",
    "f'Ortogonal e1 _|_ v: {b.are_ortogonal(e1, v)}',\n",
    "f'v·v = {b.dot_product(v,v)}',\n",
    "f'e1·e1 = {b.dot_product(e1,e1)}', sep='\\n'\n",
    ")"
   ]
  },
  {
   "cell_type": "code",
   "execution_count": 6,
   "metadata": {},
   "outputs": [
    {
     "data": {
      "text/latex": [
       "$\\begin{pmatrix} 0 & 1 \\\\ 1 & 2 \\end{pmatrix}$"
      ],
      "text/plain": [
       "<IPython.core.display.Latex object>"
      ]
     },
     "metadata": {},
     "output_type": "display_data"
    },
    {
     "data": {
      "text/latex": [
       "$\\begin{pmatrix} 0 & 1 \\\\ 1 & 2 \\end{pmatrix}$"
      ],
      "text/plain": [
       "<IPython.core.display.Latex object>"
      ]
     },
     "metadata": {},
     "output_type": "display_data"
    }
   ],
   "source": [
    "x1 = Vector([1,1])\n",
    "x2 = Vector([1,2])\n",
    "\n",
    "M_beta = Matrix([[1,1],[1,2]]).T\n",
    "\n",
    "h1 = Matrix([[4,-3],[5,-4]])\n",
    "h2 = Matrix([[3,0],[6,-2]])\n",
    "h3 = Matrix([[-1,1],[0,1]])\n",
    "h4 = Matrix([[-1,2],[-2,3]])\n",
    "\n",
    "A = h3 * M_beta\n",
    "\n",
    "A.display_latex()\n",
    "A.T.display_latex()\n"
   ]
  },
  {
   "cell_type": "code",
   "execution_count": 7,
   "metadata": {},
   "outputs": [
    {
     "data": {
      "text/latex": [
       "$\\begin{pmatrix} 1 & 3 \\\\ 1 & 4 \\end{pmatrix}$"
      ],
      "text/plain": [
       "Matrix([1  3]\n",
       "[1  4])"
      ]
     },
     "execution_count": 7,
     "metadata": {},
     "output_type": "execute_result"
    }
   ],
   "source": [
    "h4 * Matrix([[1,1],[1,2]])"
   ]
  }
 ],
 "metadata": {
  "kernelspec": {
   "display_name": ".venv (3.13.2)",
   "language": "python",
   "name": "python3"
  },
  "language_info": {
   "codemirror_mode": {
    "name": "ipython",
    "version": 3
   },
   "file_extension": ".py",
   "mimetype": "text/x-python",
   "name": "python",
   "nbconvert_exporter": "python",
   "pygments_lexer": "ipython3",
   "version": "3.13.2"
  }
 },
 "nbformat": 4,
 "nbformat_minor": 2
}
