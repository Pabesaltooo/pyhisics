{
 "cells": [
  {
   "cell_type": "code",
   "execution_count": null,
   "metadata": {},
   "outputs": [
    {
     "name": "stdout",
     "output_type": "stream",
     "text": [
      "¡Pyhsics importado correctamente!\n"
     ]
    }
   ],
   "source": [
    "import sys\n",
    "import os\n",
    "\n",
    "# Agregar la ruta del proyecto (ajusta si tu estructura es diferente)\n",
    "sys.path.insert(0, os.path.abspath('..'))\n",
    "\n",
    "# Ahora prueba importar tu librería\n",
    "from pyhsics import *\n",
    "from math import cos, sin, radians, sqrt, log, acos, degrees\n",
    "\n",
    "\n",
    "print(\"¡Pyhsics importado correctamente!\")\n"
   ]
  },
  {
   "cell_type": "code",
   "execution_count": 2,
   "metadata": {},
   "outputs": [
    {
     "data": {
      "text/latex": [
       "$\\left(3.1416\\;,\\;\\begin{pmatrix} 1 \\\\ 0 \\\\ 0 \\end{pmatrix},\\;\\begin{pmatrix} 0 \\\\ 1 \\\\ 0 \\end{pmatrix}\\right)$"
      ],
      "text/plain": [
       "(ScalarQuantity(3.141592653589793 1), Vector((1, 0, 0)), Vector((0, 1, 0)))"
      ]
     },
     "execution_count": 2,
     "metadata": {},
     "output_type": "execute_result"
    }
   ],
   "source": [
    "i,j,k = Vector.unit_vecs()\n",
    "\n",
    "pi = Constants().PI\n",
    "exp = Constants().E\n",
    "mu0 = Constants().mu0\n",
    "e_ = Constants().e_\n",
    "me_ = Constants().me_\n",
    "eps0 = Constants().e0\n",
    "\n",
    "UnitAliasManager.reset()\n",
    "u1 = Unit('T/s = T/s')\n",
    "\n",
    "pi, i, j"
   ]
  },
  {
   "cell_type": "markdown",
   "metadata": {},
   "source": [
    "Denborarekin aldatzen den eremu magnetikoa espazioan uniformea da, eta x ardatzaren norabidea  du. Eraztun eroale bat, 7 cm-ko diametroa eta $1.5 \\cdot 10^{-3}$-eko erresistentzia dituena, YZ planoan kokatzen da. Kalkulatu eremu magnetikoaren aldaketa, eraztuneko korrontea 2 A denean. Emaitza: $\\frac{dB}{dt} = -0.78 \\text{T s}^{-1}$\n",
    "\n",
    "**Prozedura**:\n",
    "$$\n",
    "\\varepsilon = - \\frac{d\\Phi_m}{dt} \\xlongequal{\\text{def}} - \\frac{d}{dt}\\left ( \\iint_S \\vec{B}\\cdot d\\vec{S} \\right)\n",
    "$$\n",
    "\n",
    "$d\\vec S$ azaleran zehar $\\vec B$ konstantea da, *espazioan uniformea*, beraz integraletik atera eta azalera integratu baino ez dugu behar. Gainera $\\vec B \\parallel \\vec S$ da.\n",
    "\n",
    "$$\n",
    "\\varepsilon \\xlongequal{\\text{Ohm}} IR = - \\frac{d}{dt} B \\iint_S dS = - \\frac{d}{dt} B \\pi r^2\n",
    "$$\n",
    "\n",
    "$$\n",
    "\\frac{dB}{dt} = -\\frac{IR}{\\pi r^2}\n",
    "$$"
   ]
  },
  {
   "cell_type": "code",
   "execution_count": 45,
   "metadata": {},
   "outputs": [
    {
     "data": {
      "text/latex": [
       "$10$"
      ],
      "text/plain": [
       "Scalar(10.0)"
      ]
     },
     "execution_count": 45,
     "metadata": {},
     "output_type": "execute_result"
    }
   ],
   "source": [
    "M = Matrix([[4, 7], [2, 6]])      # det = 10\n",
    "M.det()"
   ]
  },
  {
   "cell_type": "code",
   "execution_count": 44,
   "metadata": {},
   "outputs": [
    {
     "data": {
      "text/latex": [
       "$-0.7795\\;\\text{T} / \\text{s}$"
      ],
      "text/plain": [
       "ScalarQuantity(-0.7795344151439771 T/s)"
      ]
     },
     "execution_count": 44,
     "metadata": {},
     "output_type": "execute_result"
    }
   ],
   "source": [
    "d = Quantity(7, 'cm')\n",
    "r = d/2\n",
    "R = Quantity(1.5e-3, 'ohm')\n",
    "I = Quantity(2, 'A')\n",
    "\n",
    "S = (pi * r**2)\n",
    "\n",
    "db_dt = -(I*R)/(S)\n",
    "\n",
    "db_dt"
   ]
  },
  {
   "cell_type": "markdown",
   "metadata": {},
   "source": [
    "$0.8$ T-ko eremu magnetiko uniforme baten barruan, $0.5$ m-ko aldea duen espira karratu bat birarazi egin dugu $200$ rad/s-ko abiadura angeluarraz, irudian ikusten den bezala. Lor ezazu espiran sortutako indar elektroeragile induzitua. Emaitza: $\\varepsilon = 40sin(200t)$ V.\n",
    "\n",
    "**Prozedura**\n",
    "$$\n",
    "\\varepsilon = - \\frac{d\\Phi_m}{dt} = - \\frac{d}{dt} \\iint_S \\vec B \\cdot d\\vec S\n",
    "$$\n",
    "\n",
    "Kasu honetan $\\vec S$-ren norabidea aldatuz doa denboran zehar baina ohartu ezen $\\vec B$ ez dela aldatzen azalerarenpean beraz konstantea da eta integraletik kanportatu dezakegu. \n",
    "\n",
    "$$\n",
    "- \\frac{d}{dt} \\vec B \\iint_S \\vec S\n",
    "$$\n",
    "\n",
    "Baina azalera berez konstantea da, aldeen luzera ez baita aldatzen, era honetan zuzenean integratzen dugu $S = l^2$. Gainera $\\vec B eta \\vec S$-ren arteko biderkadura eskalarra denboraren pean aldatuz doa era honetan:\n",
    "\n",
    "$$\n",
    "(\\vec B\\cdot \\vec S)(t) = B \\cdot l^2 \\cdot \\cos {(\\omega t)}\n",
    "$$\n",
    "\n",
    "Orduan hori ordezkatuz:\n",
    "\n",
    "$$\n",
    "\\varepsilon = - \\frac{d}{dt} (\\vec B\\cdot \\vec S)(t)  = - \\frac{d}{dt} B \\cdot l^2 \\cdot \\cos {(\\omega t)}\n",
    "$$\n",
    "\n",
    "Eta azken hori denborarekiko integratuz, indar elektroeragilearen adierzapena hurrengoa da:\n",
    "\n",
    "$$\n",
    "\\varepsilon = \\omega B l^2 \\cdot \\sin {(\\omega t)}\n",
    "$$"
   ]
  },
  {
   "cell_type": "code",
   "execution_count": 43,
   "metadata": {},
   "outputs": [
    {
     "data": {
      "text/latex": [
       "$40\\;\\text{Wb}$"
      ],
      "text/plain": [
       "ScalarQuantity(40.0 Wb)"
      ]
     },
     "execution_count": 43,
     "metadata": {},
     "output_type": "execute_result"
    }
   ],
   "source": [
    "B = Quantity(0.8, 'T')\n",
    "l = Quantity(0.5, 'm')\n",
    "w = Quantity(200, 'rad/s')\n",
    "\n",
    "B*l**2 * w.value"
   ]
  },
  {
   "cell_type": "markdown",
   "metadata": {},
   "source": [
    "Eremu magnetiko konstante bat, $B = B_0(\\hat i + \\hat j + \\hat k)$, eskualde jakin batean dago: $x \\geq 0, y \\geq 0, z \\geq 0$. Begizta karratu bat abiadura konstantean $v = v_0(\\hat i + \\hat j)$ higitzen da $XY$ planoan, begiztaren  zentroak $x = y$ lerroari jarraitzen diolarik. Begiztaren luze-zabalak $L\\times L$ dira, eta haren aldeak $X$ eta $Y$ ardatzen paraleloak dira. Begizta zuzentzen duen ertza (begiztaren aurrekoa), $t = 0$ aldiunean jatorritik iragaten bada, kalkula ezazu begiztan induzitzen den iee-a. Emaitza: $|\\varepsilon| = 2B_0 {v_0}^2 t, \\quad t\\in (0, L/v_0) $"
   ]
  },
  {
   "cell_type": "markdown",
   "metadata": {},
   "source": [
    "**Prozedura**\n",
    "$$\n",
    "\\varepsilon = - \\frac{d}{dt} \\iint_S \\vec B \\cdot d \\vec S\n",
    "$$\n",
    "\n"
   ]
  },
  {
   "cell_type": "markdown",
   "metadata": {},
   "source": [
    "$U$ eiteko hari finkoa eta $X$ norabidean aske higi daitekeen zeharkako haga eroalea begizta itxi angeluzuzena osatuz, $XZ$ planoan kokatzen dira. $U$ eiteko hariaren behealdea $x = 0$ planoan dago. Eremu magnetiko konstante batek Y norabideko orientazioa du, eta, $\\vec B = Cx\\hat j$ adierazpenari jarraituz, $x$-aren funtzioan aldatzen da; $x = 0$ puntuan zero da. Sistemaren egoera eta dimentsio garrantzitsuenak irudian daude. Demagun $t = 0$ aldiunean hasita zeharkako hagaxkari tira egiten zaiola $v$ abiadura konstantean $x = 0$-tik eskuinerantz.\n",
    "\n",
    "Haren kokapena edozein aldiunetan $x = vt$ da. Begiztaren erresistentzia $L$ luzera osoaren balioaren arabera, $R = \\alpha L$ ekuazioaren bidez adierazten da. Kalkula ezazu begiztako korrontea denboraren funtzioan. Emaitza: $I = - \\frac{CDv^2 t}{2\\alpha (D+vt)}$ erlojuorratzen noranzkoan."
   ]
  },
  {
   "cell_type": "markdown",
   "metadata": {},
   "source": [
    "\n",
    "**Prozedura**:\n",
    "\n",
    "$$\n",
    "\\varepsilon = - \\frac{d}{dt} \\iint_S \\vec B \\cdot d \\vec S\n",
    "$$\n",
    "\n",
    "Gainera, badakigu \n",
    "* $\\vec B = Cx \\hat j$\n",
    "* $x = vt$ \n",
    "* Ohm-en legetik $\\varepsilon = IR$ \n",
    "  * non $R = \\alpha L$ den. \n",
    "\n",
    "* $L = 2(D + x)$ da. \n",
    "\n",
    "Bestalde \n",
    "* $\\hat j \\cdot \\hat j = 1$\n",
    "* $d\\vec S = dx \\cdot D \\hat j $ denez, hurrengo integrala era honetan berridatzi dezakegu:\n",
    "$$\n",
    "\\iint_S dS = \\int_0^x D\\cdot x dx\n",
    "$$\n",
    "Hau guztia ordezkatuz:\n",
    "\n",
    "$$\n",
    "\\begin{aligned}\n",
    "I \\cdot (\\alpha L) &= -\\frac{d}{dt} \\int_0^x  (Cx \\hat j) \\cdot (dx \\cdot D \\hat j) \\\\[1em]\n",
    "\n",
    "I \\cdot (\\alpha L) &= -\\frac{d}{dt} \\int_0^x  Cx \\cdot dx \\cdot D \\\\[1em]\n",
    "\n",
    "\n",
    "I \\cdot (\\alpha L) &= -CD \\frac{d}{dt} \\int_0^x  x dx \\\\[1em]\n",
    "\n",
    "I \\cdot (\\alpha L) &= -CD \\frac{1}{2} \\frac{d}{dt} x^2 \\\\[1em]\n",
    "\n",
    "I \\cdot (\\alpha L) &= -CD \\frac{1}{2} \\frac{d}{dt} {(vt)}^2 \\\\[1em]\n",
    "\n",
    "I \\cdot (\\alpha L) &= -CD v^2 \\frac{1}{2} \\frac{d}{dt} {t}^2 \\\\[1em]\n",
    "\n",
    "I \\cdot (\\alpha L) &= -CD v^2 t \\\\[1em]\n",
    "I &= -\\frac{CDv^2t} {2\\alpha (D+vt)}\n",
    "\\end{aligned}\n",
    "$$"
   ]
  },
  {
   "cell_type": "markdown",
   "metadata": {},
   "source": [
    "## 10\n",
    "\n",
    "Gurpilean kokaturiko sorgailu txiki batek bizikleta baten argirako korrontea sortzen du. Sorgailuak bi haril finko ditu albo banatan kokatuak; eta seriean konektatuak daude, polaritate egokian (irudia). Haril bakoitza $70$ birakoa eta $8$ cm $^2$-koa da. Iman iraunkor txiki bat harilen aurrean biratzen da; beraz, hariletan eremu magnetikoaren modulua $0,1 T$ eta *zero* tartean aldatzen da. Baldin igurzpen-gurpilaren erradioa $1 cm$ bada, zer abiadura hartu behar du bizikletak indar elektroeragile maximoa $6,4 V$ izan dadin? Emaitza: $v=5,7 m/s$."
   ]
  },
  {
   "cell_type": "code",
   "execution_count": 42,
   "metadata": {},
   "outputs": [
    {
     "data": {
      "text/latex": [
       "$5.7143\\;\\text{m} \\cdot \\text{s}^{-1}$"
      ],
      "text/plain": [
       "ScalarQuantity(5.7142857142857135 m·s⁻¹)"
      ]
     },
     "execution_count": 42,
     "metadata": {},
     "output_type": "execute_result"
    }
   ],
   "source": [
    "N = Quantity(70)\n",
    "S = Quantity(8, \"cm**2\")\n",
    "B0 = Quantity(0.1, 'T')\n",
    "r = Quantity(1, 'cm')\n",
    "eps = Quantity(6.4, 'V')\n",
    "Quantity(1)\n",
    "v = eps * r / (2*S*B0* N)\n",
    "v"
   ]
  },
  {
   "cell_type": "markdown",
   "metadata": {},
   "source": [
    "## 13\n",
    "\n",
    " 2 A-ko intentsitateko korrontea daroan zirkuituaren uxu magnetikoa, 0.8 Wb-koa da. Aurki bedi zirkuituaren autoinduktantzia, eta kalkula bedi zirkuituan sorterazitako indar elektroeragilea, $0.2 s$-ko denbora-tartean, a) korrontea bikoiztu ondoren, b) korrontea ezabatu ondoren, c) korrontearen norantza aldatu ondoren."
   ]
  },
  {
   "cell_type": "code",
   "execution_count": 41,
   "metadata": {},
   "outputs": [
    {
     "data": {
      "text/latex": [
       "$-4\\;\\text{V}$"
      ],
      "text/plain": [
       "<IPython.core.display.Latex object>"
      ]
     },
     "metadata": {},
     "output_type": "display_data"
    },
    {
     "data": {
      "text/latex": [
       "$4\\;\\text{V}$"
      ],
      "text/plain": [
       "<IPython.core.display.Latex object>"
      ]
     },
     "metadata": {},
     "output_type": "display_data"
    },
    {
     "data": {
      "text/latex": [
       "$8\\;\\text{V}$"
      ],
      "text/plain": [
       "<IPython.core.display.Latex object>"
      ]
     },
     "metadata": {},
     "output_type": "display_data"
    }
   ],
   "source": [
    "I = Quantity(2, 'A')\n",
    "PHI = Quantity(0.8, 'Wb')\n",
    "t = Quantity(0.2, 's')\n",
    "L = PHI / I\n",
    "\n",
    "# a) I' = 2I\n",
    "I_ = 2*I\n",
    "eps = -L * (I_ - I)/t\n",
    "eps.display_latex()\n",
    "\n",
    "# b) I' = 0\n",
    "I_ = Quantity(0, 'A')\n",
    "eps = -L * (I_-I)/t\n",
    "eps.display_latex()\n",
    "\n",
    "# a) I' = -I\n",
    "I_ = -I\n",
    "eps = -L * (I_-I)/t\n",
    "eps.display_latex()"
   ]
  },
  {
   "cell_type": "markdown",
   "metadata": {},
   "source": [
    " Kalkula ezazu honako solenoidearen eta begizta bakarraren arteko elkar-induktantzia. Solenoideak 600  bira, 25 cm-ko luzera eta 1,8 cm-ko erradioa ditu. Bira bakarreko begiztak, berriz, 3,0 cm-ko erradioa  du, solenoidean zentraturik dago eta berarekiko ardazkidea da. Emaitza: 3,1 uH."
   ]
  },
  {
   "cell_type": "code",
   "execution_count": 40,
   "metadata": {},
   "outputs": [
    {
     "data": {
      "text/latex": [
       "$3.0698 \\cdot 10^{-6}\\;\\text{H}$"
      ],
      "text/plain": [
       "ScalarQuantity(3.0698417529148346e-06 H)"
      ]
     },
     "execution_count": 40,
     "metadata": {},
     "output_type": "execute_result"
    }
   ],
   "source": [
    "class Solenoid:\n",
    "    def __init__(self, turns: Quantity[Scalar], length: Quantity[Scalar], radius: Quantity[Scalar]) -> None:\n",
    "        self.turns = turns\n",
    "        self.lenght = length\n",
    "        self.radius = radius\n",
    "        \n",
    "    def mutual_inductance(self, other: \"Solenoid\") -> Quantity[Scalar]:\n",
    "        return mu0 * self.turns * other.turns / self.lenght * pi * min(self.radius, other.radius)**2\n",
    "\n",
    "N_sol = Quantity(600)\n",
    "L_sol = Quantity(25, 'cm')\n",
    "r_sol = Quantity(1.8, 'cm')\n",
    "\n",
    "N_eps = Quantity(1)\n",
    "L_esp = Quantity(0, 'cm')\n",
    "r_eps = Quantity(3, 'cm')\n",
    "\n",
    "solenoidea = Solenoid(N_sol, L_sol, r_sol)\n",
    "espira = Solenoid(N_eps, L_esp, r_eps)\n",
    "\n",
    "solenoidea.mutual_inductance(espira)"
   ]
  },
  {
   "cell_type": "code",
   "execution_count": 39,
   "metadata": {},
   "outputs": [
    {
     "data": {
      "text/latex": [
       "$-6.4 \\cdot 10^{-4}\\;\\text{W}$"
      ],
      "text/plain": [
       "ScalarQuantity(-0.00064 W)"
      ]
     },
     "execution_count": 39,
     "metadata": {},
     "output_type": "execute_result"
    }
   ],
   "source": [
    "L = Quantity(2, 'mH')\n",
    "I0 = Quantity(4, 'A')\n",
    "a = Quantity(0.02, 'Hz')\n",
    "1/2 * L * I0**2 *(-2*a) \n"
   ]
  },
  {
   "cell_type": "markdown",
   "metadata": {},
   "source": [
    "Hari zuzen batek $I = 20$ A-ko korrontea garraiatzen du. Kalkulatu haren inguruko eremu magnetikoaren energia-dentsitatea, haritik neurturiko $r$ distantziaren funtzioan. Haritik zer distantziatara izango du eremuak xafla paraleloko kondentsadore batek adinako energia-dentsitatea? Karga $10^{-7}$ C da; kapazitatea, $6.3\\cdot 10^{-9}$ F, eta xaflen arteko distantzia, $1.5$ mm. Emaitza: $\\frac{6.4\\cdot 10^{-6}\\text{J/m}}{r^2}, \\qquad d = 11 \\text{cm}$"
   ]
  },
  {
   "cell_type": "markdown",
   "metadata": {},
   "source": [
    "$$\n",
    "u_M = \\frac{1}{2} \\frac{{B}^2 }{\\mu_0}\n",
    "$$\n",
    "\n",
    "$$\n",
    "B_{\\text{Eroale}} = \\frac{\\mu_0}{2\\pi}\\frac{I}{r}\n",
    "$$\n",
    "\n",
    "$$\n",
    "u_E = \\frac{1}{2} \\varepsilon_0 {E}^2\n",
    "$$\n",
    "\n",
    "$$\n",
    "E_{\\text{Kond}} = \\frac{V}{d} = \\frac{Q}{C \\, d}\n",
    "$$\n",
    "\n",
    "$$\n",
    "u_M = \\frac{1}{2} \\frac{{\\frac{\\mu_0}{2\\pi}\\frac{I}{r}}^2 }{\\mu_0}\n",
    "$$\n",
    "\n",
    "$$\n",
    "u_E = \\frac{1}{2} \\varepsilon_0 {\\left(\\frac{Q}{C \\, d}\\right)}^2\n",
    "$$\n",
    "\n",
    "\\begin{aligned}\n",
    "\n",
    "    u_M \n",
    "    &= \n",
    "    u_E\n",
    "    \\\\[1em]\n",
    "\n",
    "    \\frac{1}{2} \\frac{{B}^2 }{\\mu_0} \n",
    "    &= \n",
    "    \\frac{1}{2} \\varepsilon_0 {E}^2\n",
    "    \\\\[1em]\n",
    "\n",
    "    \\frac{1}{2} \\frac{{\\left(\\frac{\\mu_0}{2\\pi}\\frac{I}{r}\\right)}^2 }{\\mu_0} \n",
    "    &= \n",
    "    \\frac{1}{2} \\varepsilon_0 {\\left(\\frac{Q}{C \\, d}\\right)}^2\n",
    "    \\\\[1em]\n",
    "\n",
    "\n",
    "    \\mu_0\\left(\\frac{I}{2\\pi r} \\right)^2\n",
    "    &= \n",
    "    \\varepsilon_0 {\\left(\\frac{Q}{C \\, d}\\right)}^2\n",
    "    \\\\[1em]\n",
    "\n",
    "    \\frac{\\mu_0}{\\varepsilon_0}\\left(\\frac{I \\, C \\, d}{2\\pi \\, Q} \\right)^2\n",
    "    &= \n",
    "    r^2\n",
    "    \\\\[1em]\n",
    "\n",
    "    r\n",
    "    &= \n",
    "    \\sqrt{\\frac{\\mu_0}{\\varepsilon_0}}\\left(\\frac{I \\, C \\, d}{2\\pi \\, Q} \\right)\n",
    "    \\\\[1em]\n",
    "\\end{aligned}\n",
    "\n",
    "$$\n",
    "$$\n",
    "\n"
   ]
  },
  {
   "cell_type": "code",
   "execution_count": 38,
   "metadata": {},
   "outputs": [
    {
     "data": {
      "text/latex": [
       "$0.1133\\;\\text{m}$"
      ],
      "text/plain": [
       "ScalarQuantity(0.11332154912797007 m)"
      ]
     },
     "execution_count": 38,
     "metadata": {},
     "output_type": "execute_result"
    }
   ],
   "source": [
    "C = Quantity(6.3, 'nF')\n",
    "Q = Quantity(0.1, 'uC')\n",
    "d = Quantity(1.5, 'mm')\n",
    "I = Quantity(20, 'A')\n",
    "Unit('J/m**3 = J/m**3')\n",
    "\n",
    "dist = (mu0 / eps0)**(1/2) * ((I*C*d)/(2*pi*Q))\n",
    "dist"
   ]
  },
  {
   "cell_type": "code",
   "execution_count": 37,
   "metadata": {},
   "outputs": [
    {
     "data": {
      "text/latex": [
       "$\\left(0.0474\\;\\text{A},\\;2.25 \\cdot 10^{-8}\\;\\text{J}\\right)$"
      ],
      "text/plain": [
       "(ScalarQuantity(0.0474341649025257 A),\n",
       " ScalarQuantity(2.2500000000000006e-08 J))"
      ]
     },
     "execution_count": 37,
     "metadata": {},
     "output_type": "execute_result"
    }
   ],
   "source": [
    "# 18 Ariketa\n",
    "C = Quantity(20, 'nF')\n",
    "Q0 = Quantity(30, 'nC')\n",
    "L = Quantity(20, 'uH')\n",
    "\n",
    "I = Q0 * (L*C)**(-1/2)\n",
    "U = Q0**2 / (2*C)\n",
    "\n",
    "I, U"
   ]
  },
  {
   "cell_type": "code",
   "execution_count": 36,
   "metadata": {},
   "outputs": [
    {
     "data": {
      "text/latex": [
       "$\\left(-1.5 \\cdot 10^{-4}\\;\\text{A},\\;3.0 \\cdot 10^{-5}\\;\\text{s},\\;4.5 \\cdot 10^{-9}\\;\\text{C}\\right)$"
      ],
      "text/plain": [
       "(ScalarQuantity(-0.00015 A),\n",
       " ScalarQuantity(2.9999999999999997e-05 s),\n",
       " ScalarQuantity(4.499999999999999e-09 C))"
      ]
     },
     "execution_count": 36,
     "metadata": {},
     "output_type": "execute_result"
    }
   ],
   "source": [
    "# 21 Ariketa\n",
    "\n",
    "S=Quantity(100,'cm**2')\n",
    "C = Quantity(15, 'uF')\n",
    "R = Quantity(2, 'ohm')\n",
    "B0 = Quantity(0.03, 'T/s')\n",
    "\n",
    "I = - S*B0 / R\n",
    "tao = R*C\n",
    "Q = S*B0*C\n",
    "\n",
    "I, tao, Q"
   ]
  },
  {
   "cell_type": "code",
   "execution_count": 35,
   "metadata": {},
   "outputs": [
    {
     "data": {
      "text/latex": [
       "$0.0024\\;\\text{A}$"
      ],
      "text/plain": [
       "<IPython.core.display.Latex object>"
      ]
     },
     "metadata": {},
     "output_type": "display_data"
    },
    {
     "data": {
      "text/latex": [
       "$2.77 \\cdot 10^{-4}\\;\\text{H}$"
      ],
      "text/plain": [
       "<IPython.core.display.Latex object>"
      ]
     },
     "metadata": {},
     "output_type": "display_data"
    },
    {
     "data": {
      "text/latex": [
       "$8.4447 \\cdot 10^{-4}\\;\\text{A}$"
      ],
      "text/plain": [
       "<IPython.core.display.Latex object>"
      ]
     },
     "metadata": {},
     "output_type": "display_data"
    }
   ],
   "source": [
    "# 22 Ariketa\n",
    "\n",
    "R1 = Quantity(5, 'kohm')\n",
    "R2 = Quantity(24, 'ohm')\n",
    "eps = Quantity(12, 'V')\n",
    "t1 = Quantity(8, 'us')\n",
    "t2 = Quantity(12, 'us')\n",
    "\n",
    "I0 = eps/(R1 + R2)\n",
    "I0.display_latex()\n",
    "\n",
    "VR1 = I0 * R1\n",
    "VL = eps - VR1\n",
    "\n",
    "L = R2*t1 / log(2)\n",
    "L.display_latex()\n",
    "IL = I0 * (exp **(-R2 *t2 / L))\n",
    "IL.display_latex()"
   ]
  },
  {
   "cell_type": "code",
   "execution_count": 34,
   "metadata": {},
   "outputs": [
    {
     "data": {
      "text/latex": [
       "$450\\;$"
      ],
      "text/plain": [
       "<IPython.core.display.Latex object>"
      ]
     },
     "metadata": {},
     "output_type": "display_data"
    },
    {
     "data": {
      "text/latex": [
       "$26.6667\\;\\text{A}$"
      ],
      "text/plain": [
       "<IPython.core.display.Latex object>"
      ]
     },
     "metadata": {},
     "output_type": "display_data"
    }
   ],
   "source": [
    "# 23 Ariketa\n",
    "\n",
    "V1 = Quantity(120, 'V')\n",
    "V2 = Quantity(45, 'V')\n",
    "N1 = Quantity(1200)\n",
    "I1 = Quantity(10, 'A')\n",
    "\n",
    "N2 = N1 * V2/V1\n",
    "N2.display_latex()\n",
    "\n",
    "P1 = I1 * V1\n",
    "\n",
    "# P2 = P1 = I2*V2\n",
    "\n",
    "I2 = P1 / V2\n",
    "I2.display_latex()"
   ]
  },
  {
   "cell_type": "markdown",
   "metadata": {},
   "source": [
    "**RLC (AC)** Formulak:\n",
    "\n",
    "$$\n",
    "\\omega = 2 \\pi f\\\\[1em]\n",
    "\\varepsilon (t) = V_0 \\cos(\\omega t) \\\\[1em]\n",
    "X_C = \\frac{1}{\\omega C}\\\\[1em]\n",
    "X_L = \\omega L\\\\[1em]\n",
    "Z = \\sqrt{R^2 + (X_L-X_C)^2}\\\\[1em]\n",
    "I(t) = \\frac{\\varepsilon(t)}{Z}\\\\[1em]\n",
    "Q = \\int I(t) dt\\\\[1em]\n",
    "\\cos \\phi = \\frac{R}{Z}\n",
    "$$\n",
    "\n"
   ]
  },
  {
   "cell_type": "code",
   "execution_count": 30,
   "metadata": {},
   "outputs": [
    {
     "data": {
      "text/latex": [
       "$\\left(66.3146\\;\\text{Ω},\\;693.6637\\;\\text{Ω},\\;802.2262\\;\\text{Ω},\\;-0.0997\\;\\text{A},\\;\\;51.444999950121336\\;,\\;-1.3226 \\cdot 10^{-5}\\;\\text{C}\\right)$"
      ],
      "text/plain": [
       "(ScalarQuantity(66.31455962162306 Ω),\n",
       " ScalarQuantity(693.6636579126263 Ω),\n",
       " ScalarQuantity(802.2262094487656 Ω),\n",
       " ScalarQuantity(-0.09972249604630902 A),\n",
       " 51.444999950121336,\n",
       " ScalarQuantity(-1.3226106819360059e-05 C))"
      ]
     },
     "execution_count": 30,
     "metadata": {},
     "output_type": "execute_result"
    }
   ],
   "source": [
    "# 24 Ariketa\n",
    "f = Quantity(1200, 'Hz')\n",
    "V0 = Quantity(80, 'V')\n",
    "R = Quantity(500, 'ohm')\n",
    "L = Quantity(92, 'mH')\n",
    "C = Quantity(2, 'uF')\n",
    "\n",
    "\n",
    "w = 2*pi*f\n",
    "Xc = 1/(w*C)\n",
    "Xl = w*L\n",
    "Z = (R**2 + (Xl-Xc)**2)**(1/2)\n",
    "\n",
    "I_max = - V0 / Z \n",
    "phi = degrees(acos(R/Z))\n",
    "Q_max = I_max /w\n",
    "\n",
    "(Xc, Xl, Z, I_max, phi, Q_max)"
   ]
  },
  {
   "cell_type": "code",
   "execution_count": 29,
   "metadata": {},
   "outputs": [
    {
     "data": {
      "text/plain": [
       "(10, 10)"
      ]
     },
     "execution_count": 29,
     "metadata": {},
     "output_type": "execute_result"
    }
   ],
   "source": [
    "10, 10"
   ]
  },
  {
   "cell_type": "code",
   "execution_count": 31,
   "metadata": {},
   "outputs": [
    {
     "data": {
      "text/latex": [
       "$\\left(1187.437\\;\\text{Ω},\\;0.0926\\;\\text{A},\\;1.0411\\;\\text{rad},\\;55.5819\\;\\text{V},\\;122.863\\;\\text{V},\\;27.9385\\;\\text{V}\\right)$"
      ],
      "text/plain": [
       "(ScalarQuantity(1187.4369883426907 Ω),\n",
       " ScalarQuantity(0.09263649446656308 A),\n",
       " ScalarQuantity(1.0410783727947475 rad),\n",
       " ScalarQuantity(55.58189667993784 V),\n",
       " ScalarQuantity(122.86296670882105 V),\n",
       " ScalarQuantity(27.938508525164742 V))"
      ]
     },
     "execution_count": 31,
     "metadata": {},
     "output_type": "execute_result"
    }
   ],
   "source": [
    "# 25 Ariketa\n",
    "Vmax = Quantity(110, 'V')\n",
    "f = Quantity(60, 'Hz')\n",
    "R = Quantity(600, 'ohm')\n",
    "C = Quantity(2, 'uF')\n",
    "L = Quantity(0.8, 'H')\n",
    "\n",
    "w = 2*pi*f\n",
    "Xc = 1/(w*C)\n",
    "Xl = w*L\n",
    "Z = (R**2 + (Xl-Xc)**2)**(1/2)\n",
    "Imax = Vmax / Z\n",
    "\n",
    "phi = Quantity(acos(R/Z), 'rad')\n",
    "\n",
    "Vr = Vmax * cos(phi)\n",
    "V_C = Vmax * Xc/Z\n",
    "V_L = Vmax * Xl/Z\n",
    "\n",
    "Z, Imax,(phi), Vr, V_C, V_L"
   ]
  },
  {
   "cell_type": "code",
   "execution_count": 32,
   "metadata": {},
   "outputs": [
    {
     "data": {
      "text/latex": [
       "$\\left(66.3146\\;\\text{V},\\;66.3146\\;\\text{V}\\right)$"
      ],
      "text/plain": [
       "(ScalarQuantity(66.31455962162306 V), ScalarQuantity(66.31455962162306 V))"
      ]
     },
     "execution_count": 32,
     "metadata": {},
     "output_type": "execute_result"
    }
   ],
   "source": [
    "# 26 Ariketa\n",
    "\n",
    "C = Quantity(16, 'uF')\n",
    "R = Quantity(30, 'ohm')\n",
    "V = Quantity(12, 'V')\n",
    "f = Quantity(60, 'Hz')\n",
    "w = 2*pi * f\n",
    "\n",
    "I = V/R\n",
    "\n",
    "Xc = 1/(w*C)\n",
    "\n",
    "Xl = Xc\n",
    "\n",
    "V_C = I*Xc\n",
    "V_RL = I*Xl\n",
    "\n",
    "V_C, V_RL"
   ]
  },
  {
   "cell_type": "code",
   "execution_count": 33,
   "metadata": {},
   "outputs": [
    {
     "data": {
      "text/latex": [
       "$2017.6911\\;\\text{W}$"
      ],
      "text/plain": [
       "ScalarQuantity(2017.6911157024797 W)"
      ]
     },
     "execution_count": 33,
     "metadata": {},
     "output_type": "execute_result"
    }
   ],
   "source": [
    "# 27 Ariketa\n",
    "\n",
    "P = Quantity(5, 'kW')\n",
    "V = Quantity(220, 'V')\n",
    "fp = Quantity(0.8)\n",
    "R = Quantity(2.5, 'ohm')\n",
    "\n",
    "phi = acos(fp)\n",
    "\n",
    "S = P/fp\n",
    "\n",
    "I = S/V\n",
    "P_res = I**2 * R\n",
    "\n",
    "P_ = ((P + P_res)**2+(S*sin(phi))**2)**(1/2)\n",
    "\n",
    "P_res"
   ]
  }
 ],
 "metadata": {
  "kernelspec": {
   "display_name": ".venv (3.13.2)",
   "language": "python",
   "name": "python3"
  },
  "language_info": {
   "codemirror_mode": {
    "name": "ipython",
    "version": 3
   },
   "file_extension": ".py",
   "mimetype": "text/x-python",
   "name": "python",
   "nbconvert_exporter": "python",
   "pygments_lexer": "ipython3",
   "version": "3.13.2"
  }
 },
 "nbformat": 4,
 "nbformat_minor": 2
}
