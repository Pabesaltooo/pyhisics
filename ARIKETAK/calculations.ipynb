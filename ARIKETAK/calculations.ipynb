{
 "cells": [
  {
   "cell_type": "code",
   "execution_count": 2,
   "metadata": {},
   "outputs": [
    {
     "name": "stdout",
     "output_type": "stream",
     "text": [
      "¡Pyhsics importado correctamente!\n"
     ]
    }
   ],
   "source": [
    "import sys\n",
    "import os\n",
    "\n",
    "# Agregar la ruta del proyecto (ajusta si tu estructura es diferente)\n",
    "sys.path.insert(0, os.path.abspath('..'))\n",
    "\n",
    "# Ahora prueba importar tu librería\n",
    "from pyhsics import *\n",
    "from math import cos, sin, radians, sqrt\n",
    "import numpy as np\n",
    "import matplotlib.pyplot as plt\n",
    "\n",
    "rad = radians\n",
    "\n",
    "print(\"¡Pyhsics importado correctamente!\")"
   ]
  },
  {
   "cell_type": "code",
   "execution_count": 56,
   "metadata": {},
   "outputs": [
    {
     "data": {
      "text/latex": [
       "$\\displaystyle \\frac{V_{2}}{V_{1}} = (0.898 \\pm 0.001)\\;\\;$"
      ],
      "text/plain": [
       "<IPython.core.display.Latex object>"
      ]
     },
     "metadata": {},
     "output_type": "display_data"
    },
    {
     "data": {
      "text/latex": [
       "$\\displaystyle \\frac{V_{2}}{V_{1}} = (0.893 \\pm 0.002)\\;\\;$"
      ],
      "text/plain": [
       "<IPython.core.display.Latex object>"
      ]
     },
     "metadata": {},
     "output_type": "display_data"
    },
    {
     "data": {
      "text/latex": [
       "$\\displaystyle \\frac{V_{2}}{V_{1}} = (0.898 \\pm 0.003)\\;\\;$"
      ],
      "text/plain": [
       "<IPython.core.display.Latex object>"
      ]
     },
     "metadata": {},
     "output_type": "display_data"
    },
    {
     "data": {
      "text/latex": [
       "$\\displaystyle \\frac{V_{2}}{V_{1}} = (0.882 \\pm 0.006)\\;\\;$"
      ],
      "text/plain": [
       "<IPython.core.display.Latex object>"
      ]
     },
     "metadata": {},
     "output_type": "display_data"
    },
    {
     "data": {
      "text/latex": [
       "$8.9773\\;$"
      ],
      "text/plain": [
       "<IPython.core.display.Latex object>"
      ]
     },
     "metadata": {},
     "output_type": "display_data"
    },
    {
     "data": {
      "text/plain": []
     },
     "execution_count": 56,
     "metadata": {},
     "output_type": "execute_result"
    }
   ],
   "source": [
    "# V = 12\n",
    "Va_12 = DirectMeasure(13.58, 0.01, 'V')\n",
    "Vb_12 = DirectMeasure(12.2, 0.01, 'V')\n",
    "f1 = CalculatedMeasure('f1 = V2/V1', {'V1': Va_12, 'V2': Vb_12})\n",
    "repr(f1)\n",
    "\n",
    "# V = 6\n",
    "Va_6 = DirectMeasure(6.70, 0.01, 'V')\n",
    "Vb_6 = DirectMeasure(5.980, 0.01, 'V')\n",
    "f2 = CalculatedMeasure('f2 = V2/V1', {'V1': Va_6, 'V2': Vb_6})\n",
    "repr(f2)\n",
    "\n",
    "# V = 4\n",
    "Va_4 = DirectMeasure(4.40, 0.01, 'V')\n",
    "Vb_4 = DirectMeasure(3.95, 0.01, 'V')\n",
    "f3 = CalculatedMeasure('f3 = V2/V1', {'V1': Va_4, 'V2': Vb_4})\n",
    "repr(f3)\n",
    "\n",
    "# V = 2\n",
    "Va_2 = DirectMeasure(2.200, 0.01, 'V')\n",
    "Vb_2 = DirectMeasure(1.935, 0.01, 'V')\n",
    "f4 = CalculatedMeasure('f4 = V2/V1', {'V1': Va_2, 'V2': Vb_2})\n",
    "repr(f4)\n",
    "f3.value*10"
   ]
  },
  {
   "cell_type": "code",
   "execution_count": null,
   "metadata": {},
   "outputs": [],
   "source": []
  },
  {
   "cell_type": "code",
   "execution_count": 67,
   "metadata": {},
   "outputs": [
    {
     "data": {
      "text/latex": [
       "$\\displaystyle \\frac{f_{1}}{4} + \\frac{f_{2}}{4} + \\frac{f_{3}}{4} + \\frac{f_{4}}{4} = (0.891 \\pm 0.002)\\;\\;$"
      ],
      "text/plain": [
       "<IPython.core.display.Latex object>"
      ]
     },
     "metadata": {},
     "output_type": "display_data"
    },
    {
     "data": {
      "text/plain": []
     },
     "execution_count": 67,
     "metadata": {},
     "output_type": "execute_result"
    }
   ],
   "source": [
    "f_ = CalculatedMeasure('(f1 + f2 + f3 + f4)/4', {\n",
    "    'f1': f1,\n",
    "    'f2': f2,\n",
    "    'f3': f2,\n",
    "    'f4': f4\n",
    "})\n",
    "\n",
    "f_"
   ]
  },
  {
   "cell_type": "code",
   "execution_count": 74,
   "metadata": {},
   "outputs": [
    {
     "data": {
      "text/latex": [
       "$\\displaystyle \\frac{1}{5} = (0.2 \\pm 0)\\;\\;$"
      ],
      "text/plain": [
       "<IPython.core.display.Latex object>"
      ]
     },
     "metadata": {},
     "output_type": "display_data"
    },
    {
     "data": {
      "text/plain": []
     },
     "execution_count": 74,
     "metadata": {},
     "output_type": "execute_result"
    }
   ],
   "source": [
    "N_teo = CalculatedMeasure('400/2000', {})\n",
    "N_teo"
   ]
  },
  {
   "cell_type": "code",
   "execution_count": 77,
   "metadata": {},
   "outputs": [
    {
     "name": "stdout",
     "output_type": "stream",
     "text": [
      "V=12\n"
     ]
    },
    {
     "data": {
      "text/latex": [
       "$\\displaystyle \\frac{V_{2}}{V_{1} f} = (0.251 \\pm 0.001)\\;\\;$"
      ],
      "text/plain": [
       "<IPython.core.display.Latex object>"
      ]
     },
     "metadata": {},
     "output_type": "display_data"
    },
    {
     "data": {
      "text/latex": [
       "$\\displaystyle \\sqrt{\\frac{V_{2}^{2} Δf^{2}}{V_{1}^{2} f^{4}} + \\frac{ΔV_{2}^{2}}{V_{1}^{2} f^{2}} + \\frac{V_{2}^{2} ΔV_{1}^{2}}{V_{1}^{4} f^{2}}}$"
      ],
      "text/plain": [
       "sqrt(V2**2*Δf**2/(V1**2*f**4) + ΔV2**2/(V1**2*f**2) + V2**2*ΔV1**2/(V1**4*f**2))"
      ]
     },
     "execution_count": 77,
     "metadata": {},
     "output_type": "execute_result"
    }
   ],
   "source": [
    "Vout_50_12 = DirectMeasure(3.035, 0.01, 'V')\n",
    "N_calc_12 = CalculatedMeasure('(1/f) * V2/V1', {'f': f_, 'V2': Vout_50_12, 'V1': Va_12})\n",
    "print('V=12')\n",
    "repr(N_calc_12)\n",
    "\n",
    "N_calc_12.error_formula()"
   ]
  },
  {
   "cell_type": "code",
   "execution_count": null,
   "metadata": {},
   "outputs": [],
   "source": [
    "\n",
    "Vout_50_6 = DirectMeasure(1.470, 0.01, 'V')\n",
    "N_calc_6 = CalculatedMeasure('(1/f) * V2/V1', {'f': f_, 'V2': Vout_50_6, 'V1': Va_6})\n",
    "print('V=6')\n",
    "repr(N_calc_6)\n",
    "\n",
    "Vout_50_4 = DirectMeasure(0.970, 0.01, 'V')\n",
    "N_calc_4 = CalculatedMeasure('(1/f) * V2/V1', {'f': f_, 'V2': Vout_50_4, 'V1': Va_4})\n",
    "print('V=4')\n",
    "repr(N_calc_4)\n",
    "\n",
    "Vout_50_2 = DirectMeasure(0.480, 0.01, 'V')\n",
    "N_calc_2 = CalculatedMeasure('(1/f) * V2/V1', {'f': f_, 'V2': Vout_50_2, 'V1': Va_2})\n",
    "print('V=2')\n",
    "repr(N_calc_2)\n",
    "\n",
    "N_mean = CalculatedMeasure('N2/N1 = (N1 + N2 + N3 + N4)/4', {\n",
    "    'N1': N_calc_12,\n",
    "    'N2': N_calc_6,\n",
    "    'N3': N_calc_4,\n",
    "    'N4': N_calc_2\n",
    "})\n",
    "\n",
    "repr(N_mean)"
   ]
  },
  {
   "cell_type": "code",
   "execution_count": 48,
   "metadata": {},
   "outputs": [
    {
     "data": {
      "text/latex": [
       "$\\displaystyle \\sqrt{\\frac{V_{2}^{2} Δf^{2}}{V_{1}^{2} f^{4}} + \\frac{ΔV_{2}^{2}}{V_{1}^{2} f^{2}} + \\frac{V_{2}^{2} ΔV_{1}^{2}}{V_{1}^{4} f^{2}}}$"
      ],
      "text/plain": [
       "sqrt(V2**2*Δf**2/(V1**2*f**4) + ΔV2**2/(V1**2*f**2) + V2**2*ΔV1**2/(V1**4*f**2))"
      ]
     },
     "execution_count": 48,
     "metadata": {},
     "output_type": "execute_result"
    }
   ],
   "source": [
    "N_calc_12.error_formula()"
   ]
  },
  {
   "cell_type": "code",
   "execution_count": 83,
   "metadata": {},
   "outputs": [
    {
     "data": {
      "text/latex": [
       "$\\displaystyle \\sqrt{\\frac{ΔV_{2}^{2}}{V_{1}^{2}} + \\frac{V_{2}^{2} ΔV_{1}^{2}}{V_{1}^{4}}}$"
      ],
      "text/plain": [
       "sqrt(ΔV2**2/V1**2 + V2**2*ΔV1**2/V1**4)"
      ]
     },
     "execution_count": 83,
     "metadata": {},
     "output_type": "execute_result"
    }
   ],
   "source": [
    "f = CalculatedMeasure('V2 / V1', {\n",
    "                                          'V1': Va_12,\n",
    "                                          'V2': Vout_50_12})\n",
    "f.error_formula()"
   ]
  },
  {
   "cell_type": "code",
   "execution_count": 82,
   "metadata": {},
   "outputs": [
    {
     "data": {
      "image/png": "[encoded data removed]",
      "text/plain": [
       "<Figure size 900x300 with 1 Axes>"
      ]
     },
     "metadata": {},
     "output_type": "display_data"
    }
   ],
   "source": [
    "from pyhsics.plotter.plot_measure import MultiMeasurePlotter\n",
    "\n",
    "MultiMeasurePlotter.from_measures([f1, f2, f3, f4, f_]).plot()"
   ]
  },
  {
   "cell_type": "code",
   "execution_count": 81,
   "metadata": {},
   "outputs": [
    {
     "data": {
      "image/png": "[encoded data removed]",
      "text/plain": [
       "<Figure size 900x300 with 1 Axes>"
      ]
     },
     "metadata": {},
     "output_type": "display_data"
    }
   ],
   "source": [
    "MultiMeasurePlotter.from_measures([N_calc_12, N_calc_6,N_calc_4, N_calc_2, N_mean, N_teo]).plot()"
   ]
  },
  {
   "cell_type": "markdown",
   "metadata": {},
   "source": []
  },
  {
   "cell_type": "code",
   "execution_count": 2,
   "metadata": {},
   "outputs": [
    {
     "data": {
      "image/png": "[encoded data removed]",
      "text/plain": [
       "<Figure size 800x500 with 1 Axes>"
      ]
     },
     "metadata": {},
     "output_type": "display_data"
    }
   ],
   "source": [
    "from pyhsics.plotter import Plotter, MultiPlotter\n",
    "\n",
    "\n",
    "R1 = Quantity(10, 'ohm')\n",
    "R2 = Quantity(20, 'ohm')\n",
    "\n",
    "R_paralelo = (R1**-1 + R2**-1)**-1\n",
    "R_serie = R1 + R2\n",
    "\n",
    "values = {\"R1\": R1,\n",
    "        \"R2\": R2,\n",
    "        \"Paralelo\": R_paralelo,\n",
    "        \"Serie\": R_serie}\n",
    "\n",
    "# Generar un único gráfico combinando las curvas\n",
    "multi_plot = MultiPlotter({ name: Plotter('V = I*R', 'I', {'R': R}) for name, R in values.items()})\n",
    "multi_plot.plot((0, 10))"
   ]
  },
  {
   "cell_type": "code",
   "execution_count": 3,
   "metadata": {},
   "outputs": [
    {
     "data": {
      "image/png": "[encoded data removed]",
      "text/plain": [
       "<Figure size 800x500 with 1 Axes>"
      ]
     },
     "metadata": {},
     "output_type": "display_data"
    }
   ],
   "source": [
    "\n",
    "p1 = Plotter('P = V**2/R', 'V', {'R': R1})\n",
    "p2 = Plotter('P = V**2/R', 'V', {'R': R2})\n",
    "p3 = Plotter('P = V**2/R', 'V', {'R': R_paralelo})\n",
    "p4 = Plotter('P = V**2/R', 'V', {'R': R_serie})\n",
    "\n",
    "# Generar un único gráfico combinando las curvas\n",
    "multi_plot = MultiPlotter({\n",
    "    \"Potencia consumida R1\": p1,\n",
    "    \"Potencia R2\": p2,\n",
    "    \"Potencia en paralelo\": p3,\n",
    "    \"Potencia en serie\": p4\n",
    "})\n",
    "multi_plot.plot((0, 30))\n"
   ]
  },
  {
   "cell_type": "code",
   "execution_count": 4,
   "metadata": {},
   "outputs": [
    {
     "data": {
      "image/png": "[encoded data removed]",
      "text/plain": [
       "<Figure size 800x500 with 1 Axes>"
      ]
     },
     "metadata": {},
     "output_type": "display_data"
    },
    {
     "data": {
      "image/png": "[encoded data removed]",
      "text/plain": [
       "<Figure size 800x500 with 1 Axes>"
      ]
     },
     "metadata": {},
     "output_type": "display_data"
    },
    {
     "data": {
      "application/vnd.microsoft.datawrangler.viewer.v0+json": {
       "columns": [
        {
         "name": "index",
         "rawType": "int64",
         "type": "integer"
        },
        {
         "name": "Transformacion",
         "rawType": "object",
         "type": "string"
        },
        {
         "name": "Pendiente",
         "rawType": "float64",
         "type": "float"
        },
        {
         "name": "Pendiente_Simbolica",
         "rawType": "object",
         "type": "string"
        },
        {
         "name": "Interseccion",
         "rawType": "float64",
         "type": "float"
        },
        {
         "name": "Interseccion_Simbolica",
         "rawType": "object",
         "type": "string"
        },
        {
         "name": "R2",
         "rawType": "float64",
         "type": "float"
        },
        {
         "name": "Ecuacion",
         "rawType": "object",
         "type": "string"
        }
       ],
       "conversionMethod": "pd.DataFrame",
       "ref": "75494a94-e25f-40a4-b434-4f3e1b1c0576",
       "rows": [
        [
         "0",
         "square",
         "4.024303527457434",
         "0.407747196738022*pi**2",
         "-7.613056312894391e-16",
         "0",
         "1.0",
         "y = 4.024 x + -0.000"
        ]
       ],
       "shape": {
        "columns": 7,
        "rows": 1
       }
      },
      "text/html": [
       "<div>\n",
       "<style scoped>\n",
       "    .dataframe tbody tr th:only-of-type {\n",
       "        vertical-align: middle;\n",
       "    }\n",
       "\n",
       "    .dataframe tbody tr th {\n",
       "        vertical-align: top;\n",
       "    }\n",
       "\n",
       "    .dataframe thead th {\n",
       "        text-align: right;\n",
       "    }\n",
       "</style>\n",
       "<table border=\"1\" class=\"dataframe\">\n",
       "  <thead>\n",
       "    <tr style=\"text-align: right;\">\n",
       "      <th></th>\n",
       "      <th>Transformacion</th>\n",
       "      <th>Pendiente</th>\n",
       "      <th>Pendiente_Simbolica</th>\n",
       "      <th>Interseccion</th>\n",
       "      <th>Interseccion_Simbolica</th>\n",
       "      <th>R2</th>\n",
       "      <th>Ecuacion</th>\n",
       "    </tr>\n",
       "  </thead>\n",
       "  <tbody>\n",
       "    <tr>\n",
       "      <th>0</th>\n",
       "      <td>square</td>\n",
       "      <td>4.024304</td>\n",
       "      <td>0.407747196738022*pi**2</td>\n",
       "      <td>-7.613056e-16</td>\n",
       "      <td>0</td>\n",
       "      <td>1.0</td>\n",
       "      <td>y = 4.024 x + -0.000</td>\n",
       "    </tr>\n",
       "  </tbody>\n",
       "</table>\n",
       "</div>"
      ],
      "text/plain": [
       "  Transformacion  Pendiente      Pendiente_Simbolica  Interseccion  \\\n",
       "0         square   4.024304  0.407747196738022*pi**2 -7.613056e-16   \n",
       "\n",
       "  Interseccion_Simbolica   R2              Ecuacion  \n",
       "0                      0  1.0  y = 4.024 x + -0.000  "
      ]
     },
     "execution_count": 4,
     "metadata": {},
     "output_type": "execute_result"
    }
   ],
   "source": [
    "# Ejemplo: Periodo de un péndulo simple\n",
    "p_pendulo = Plotter('T = 2*pi*sqrt(L/g)', 'L', {'g': 9.81})\n",
    "# Primero se grafica la función original\n",
    "p_pendulo.plot((0.1, 2))\n",
    "\n",
    "# Linearizamos y obtenemos los parámetros del ajuste lineal\n",
    "df_regresion = p_pendulo.linearize((0.1, 2))\n",
    "(df_regresion)\n"
   ]
  },
  {
   "cell_type": "code",
   "execution_count": 5,
   "metadata": {},
   "outputs": [
    {
     "data": {
      "image/png": "[encoded data removed]",
      "text/plain": [
       "<Figure size 800x500 with 1 Axes>"
      ]
     },
     "metadata": {},
     "output_type": "display_data"
    },
    {
     "data": {
      "image/png": "[encoded data removed]",
      "text/plain": [
       "<Figure size 800x500 with 1 Axes>"
      ]
     },
     "metadata": {},
     "output_type": "display_data"
    },
    {
     "data": {
      "application/vnd.microsoft.datawrangler.viewer.v0+json": {
       "columns": [
        {
         "name": "index",
         "rawType": "int64",
         "type": "integer"
        },
        {
         "name": "Transformacion",
         "rawType": "object",
         "type": "string"
        },
        {
         "name": "Pendiente",
         "rawType": "float64",
         "type": "float"
        },
        {
         "name": "Pendiente_Simbolica",
         "rawType": "object",
         "type": "string"
        },
        {
         "name": "Interseccion",
         "rawType": "float64",
         "type": "float"
        },
        {
         "name": "Interseccion_Simbolica",
         "rawType": "object",
         "type": "string"
        },
        {
         "name": "R2",
         "rawType": "float64",
         "type": "float"
        },
        {
         "name": "Ecuacion",
         "rawType": "object",
         "type": "string"
        }
       ],
       "conversionMethod": "pd.DataFrame",
       "ref": "886ed855-f4a7-442a-a80f-737b542b2ce6",
       "rows": [
        [
         "0",
         "log",
         "-999.9999999999999",
         "nan",
         "1.6094379124341032",
         "nan",
         "1.0",
         "y = -1000.000 x + 1.609"
        ]
       ],
       "shape": {
        "columns": 7,
        "rows": 1
       }
      },
      "text/html": [
       "<div>\n",
       "<style scoped>\n",
       "    .dataframe tbody tr th:only-of-type {\n",
       "        vertical-align: middle;\n",
       "    }\n",
       "\n",
       "    .dataframe tbody tr th {\n",
       "        vertical-align: top;\n",
       "    }\n",
       "\n",
       "    .dataframe thead th {\n",
       "        text-align: right;\n",
       "    }\n",
       "</style>\n",
       "<table border=\"1\" class=\"dataframe\">\n",
       "  <thead>\n",
       "    <tr style=\"text-align: right;\">\n",
       "      <th></th>\n",
       "      <th>Transformacion</th>\n",
       "      <th>Pendiente</th>\n",
       "      <th>Pendiente_Simbolica</th>\n",
       "      <th>Interseccion</th>\n",
       "      <th>Interseccion_Simbolica</th>\n",
       "      <th>R2</th>\n",
       "      <th>Ecuacion</th>\n",
       "    </tr>\n",
       "  </thead>\n",
       "  <tbody>\n",
       "    <tr>\n",
       "      <th>0</th>\n",
       "      <td>log</td>\n",
       "      <td>-1000.0</td>\n",
       "      <td>nan</td>\n",
       "      <td>1.609438</td>\n",
       "      <td>nan</td>\n",
       "      <td>1.0</td>\n",
       "      <td>y = -1000.000 x + 1.609</td>\n",
       "    </tr>\n",
       "  </tbody>\n",
       "</table>\n",
       "</div>"
      ],
      "text/plain": [
       "  Transformacion  Pendiente Pendiente_Simbolica  Interseccion  \\\n",
       "0            log    -1000.0                 nan      1.609438   \n",
       "\n",
       "  Interseccion_Simbolica   R2                 Ecuacion  \n",
       "0                    nan  1.0  y = -1000.000 x + 1.609  "
      ]
     },
     "execution_count": 5,
     "metadata": {},
     "output_type": "execute_result"
    }
   ],
   "source": [
    "# Ejemplo: Descarga de un capacitor\n",
    "p_capacitor = Plotter('V = (V0*exp(-t/(R*C)))', 't', {'V0': 5, 'R': 1000, 'C': 1e-6})\n",
    "p_capacitor.plot((0, 0.01))  # Graficar en el intervalo de tiempo adecuado (en segundos)\n",
    "\n",
    "p_capacitor.linearize((0,0.1))\n"
   ]
  },
  {
   "cell_type": "code",
   "execution_count": 6,
   "metadata": {},
   "outputs": [
    {
     "data": {
      "text/latex": [
       "$8.1455 \\cdot 10^{-5}\\;\\text{m} \\cdot \\text{s}^{-1}$"
      ],
      "text/plain": [
       "<IPython.core.display.Latex object>"
      ]
     },
     "metadata": {},
     "output_type": "display_data"
    },
    {
     "data": {
      "text/plain": []
     },
     "execution_count": 6,
     "metadata": {},
     "output_type": "execute_result"
    }
   ],
   "source": [
    "ro_cu = Quantity(8.93, 'g/cm**3')\n",
    "M_cu = Quantity(63.5, 'g/mol')\n",
    "Na = Constants().Na\n",
    "r = Quantity(1.2, 'mm')\n",
    "I1 = Quantity(5, 'A')\n",
    "pi = Constants().PI\n",
    "q = Constants().e_\n",
    "\n",
    "S = pi*r**2\n",
    "J = I1/S\n",
    "n = ro_cu*Na / M_cu\n",
    "\n",
    "vd = I1 /(q*n*S)\n",
    "\n",
    "vd"
   ]
  },
  {
   "cell_type": "code",
   "execution_count": 7,
   "metadata": {},
   "outputs": [
    {
     "data": {
      "text/latex": [
       "$1.498 \\cdot 10^{16}\\;$"
      ],
      "text/plain": [
       "<IPython.core.display.Latex object>"
      ]
     },
     "metadata": {},
     "output_type": "display_data"
    },
    {
     "data": {
      "text/plain": []
     },
     "execution_count": 7,
     "metadata": {},
     "output_type": "execute_result"
    }
   ],
   "source": [
    "E = Quantity(6, 'MeV')\n",
    "I1 = Quantity(800, 'uA')\n",
    "r = Quantity(1.5, 'mm')\n",
    "mp = Constants().mp_\n",
    "t = Quantity(3, 's')\n",
    "\n",
    "S = pi*r**2\n",
    "v2 = (2*E/mp)\n",
    "vd = v2**(1/2)\n",
    "\n",
    "n = I1 / (vd*q*S)\n",
    "\n",
    "\n",
    "# I = Q/t -> Q = I*t -> Q / q_p+ = n\n",
    "\n",
    "Q = I1 * t\n",
    "round(Q/q)"
   ]
  },
  {
   "cell_type": "code",
   "execution_count": 8,
   "metadata": {},
   "outputs": [
    {
     "data": {
      "text/latex": [
       "$\\begin{pmatrix} -0.075 \\\\ 0 \\\\ 0 \\end{pmatrix}\\;\\text{J}$"
      ],
      "text/plain": [
       "<IPython.core.display.Latex object>"
      ]
     },
     "metadata": {},
     "output_type": "display_data"
    },
    {
     "data": {
      "text/plain": []
     },
     "execution_count": 8,
     "metadata": {},
     "output_type": "execute_result"
    }
   ],
   "source": [
    "I1 = Quantity(5, 'A')\n",
    "S_ZY_vec = Vector([0, \n",
    "                   0.2*cos(rad(60)), \n",
    "                   0.2*sin(rad(60))])\n",
    "S_X_vec = Vector([0.1, 0,0])\n",
    "\n",
    "S_vec = S_X_vec.cross(S_ZY_vec)\n",
    "S = VectorQuantity(S_vec, 'm**2')\n",
    "B = VectorQuantity([0,1.5, 0], 'T')\n",
    "\n",
    "(I1*S.cross(B))"
   ]
  },
  {
   "cell_type": "code",
   "execution_count": 9,
   "metadata": {},
   "outputs": [
    {
     "data": {
      "image/png": "[encoded data removed]",
      "text/plain": [
       "<Figure size 640x480 with 1 Axes>"
      ]
     },
     "metadata": {},
     "output_type": "display_data"
    }
   ],
   "source": [
    "\n",
    "import matplotlib.pyplot as plt\n",
    "\n",
    "\n",
    "angles = list(range(361))\n",
    "moments = []\n",
    "\n",
    "for i in angles:\n",
    "    S_ZY_vec = Vector([0, \n",
    "                    0.2*cos(rad(i)), \n",
    "                    0.2*sin(rad(i))])\n",
    "    S_vec = S_X_vec.cross(S_ZY_vec)\n",
    "    S = VectorQuantity(S_vec, 'm**2')\n",
    "    moment = I1 * S.cross(B)\n",
    "    moments.append(moment.value.magnitude)\n",
    "\n",
    "plt.plot(angles, moments)\n",
    "plt.xlabel('Angle (degrees)')\n",
    "plt.ylabel('Moment (N*m)')\n",
    "plt.title('Moment vs Angle')\n",
    "plt.grid(True)\n",
    "plt.show()"
   ]
  },
  {
   "cell_type": "code",
   "execution_count": 10,
   "metadata": {},
   "outputs": [
    {
     "data": {
      "text/latex": [
       "$9.6485 \\cdot 10^{4}\\;\\text{s} \\cdot \\text{A} \\cdot \\text{mol}^{-1}$"
      ],
      "text/plain": [
       "<IPython.core.display.Latex object>"
      ]
     },
     "metadata": {},
     "output_type": "display_data"
    },
    {
     "data": {
      "text/plain": []
     },
     "execution_count": 10,
     "metadata": {},
     "output_type": "execute_result"
    }
   ],
   "source": [
    "densidad_Cu = Quantity(8.93, '(g/cm**3)')\n",
    "masamolar_Cu = Quantity(63.5, '(g/mol)')\n",
    "radio = Quantity(1.2,'(mm)')\n",
    "current = Quantity(5, '(A)')\n",
    "Na = Constants().Na\n",
    "e_ = Constants().e_\n",
    "pi = Constants().PI\n",
    "values: dict[str, Quantity] = {\n",
    "    'd': densidad_Cu,\n",
    "    'M': masamolar_Cu,\n",
    "    'r': radio,\n",
    "    'I_n': current,\n",
    "    'Na': Na,\n",
    "    'e': e_,\n",
    "    'pi': pi\n",
    "}\n",
    "\n",
    "(e_ * Na)"
   ]
  },
  {
   "cell_type": "code",
   "execution_count": 11,
   "metadata": {},
   "outputs": [
    {
     "data": {
      "text/latex": [
       "$\\text{C}$"
      ],
      "text/plain": [
       "<IPython.core.display.Latex object>"
      ]
     },
     "metadata": {},
     "output_type": "display_data"
    },
    {
     "data": {
      "text/plain": []
     },
     "execution_count": 11,
     "metadata": {},
     "output_type": "execute_result"
    }
   ],
   "source": [
    "(Unit('s*A'))"
   ]
  },
  {
   "cell_type": "code",
   "execution_count": 12,
   "metadata": {},
   "outputs": [
    {
     "data": {
      "text/latex": [
       "$8.4689 \\cdot 10^{28}\\;\\text{m}^{-3}$"
      ],
      "text/plain": [
       "<IPython.core.display.Latex object>"
      ]
     },
     "metadata": {},
     "output_type": "display_data"
    },
    {
     "data": {
      "text/plain": []
     },
     "execution_count": 12,
     "metadata": {},
     "output_type": "execute_result"
    }
   ],
   "source": [
    "n = densidad_Cu * Na / masamolar_Cu\n",
    "n # cargas / m^3 "
   ]
  },
  {
   "cell_type": "code",
   "execution_count": 13,
   "metadata": {},
   "outputs": [
    {
     "data": {
      "text/latex": [
       "$8.1455 \\cdot 10^{-5}\\;\\text{m} \\cdot \\text{s}^{-1}$"
      ],
      "text/plain": [
       "<IPython.core.display.Latex object>"
      ]
     },
     "metadata": {},
     "output_type": "display_data"
    },
    {
     "data": {
      "text/plain": []
     },
     "execution_count": 13,
     "metadata": {},
     "output_type": "execute_result"
    }
   ],
   "source": [
    "v = current / (e_ * n * pi * radio **2)\n",
    "(v)"
   ]
  },
  {
   "cell_type": "code",
   "execution_count": 14,
   "metadata": {},
   "outputs": [
    {
     "data": {
      "text/latex": [
       "$6\\;\\text{V}$"
      ],
      "text/plain": [
       "<IPython.core.display.Latex object>"
      ]
     },
     "metadata": {},
     "output_type": "display_data"
    },
    {
     "data": {
      "text/plain": []
     },
     "execution_count": 14,
     "metadata": {},
     "output_type": "execute_result"
    }
   ],
   "source": [
    "RA = Quantity(6, 'ohm')\n",
    "RB = Quantity(6, 'ohm')\n",
    "RC = Quantity(4, 'ohm')\n",
    "RD = Quantity(5, 'ohm')\n",
    "RE = Quantity(20, 'ohm')\n",
    "\n",
    "R12 = (1/RA + 1/RB)**-1\n",
    "R345 = (1/RC + 1/RD + 1/RE)**-1\n",
    "\n",
    "I1 = Quantity(1.2, 'A') \n",
    "\n",
    "(I1*(R12 + R345))"
   ]
  },
  {
   "cell_type": "code",
   "execution_count": 15,
   "metadata": {},
   "outputs": [
    {
     "data": {
      "text/latex": [
       "$0.0108\\;\\text{Ω}$"
      ],
      "text/plain": [
       "<IPython.core.display.Latex object>"
      ]
     },
     "metadata": {},
     "output_type": "display_data"
    },
    {
     "data": {
      "text/plain": []
     },
     "execution_count": 15,
     "metadata": {},
     "output_type": "execute_result"
    }
   ],
   "source": [
    "r3 = Quantity(1/2,'mm')\n",
    "L1 = Quantity(1,'m')\n",
    "ro = Quantity(1.7e-8, 'ohm * m')\n",
    "R = ro * L1 / (2*pi*r3**2)\n",
    "(R)"
   ]
  },
  {
   "cell_type": "code",
   "execution_count": 16,
   "metadata": {},
   "outputs": [
    {
     "data": {
      "text/latex": [
       "$\\text{kg} \\cdot \\text{m}^{4} \\cdot \\text{s}^{-3} \\cdot \\text{A}^{-2}$"
      ],
      "text/plain": [
       "<IPython.core.display.Latex object>"
      ]
     },
     "metadata": {},
     "output_type": "display_data"
    },
    {
     "data": {
      "text/plain": []
     },
     "execution_count": 16,
     "metadata": {},
     "output_type": "execute_result"
    }
   ],
   "source": [
    "(Unit('ohm*m*m'))"
   ]
  },
  {
   "cell_type": "code",
   "execution_count": 17,
   "metadata": {},
   "outputs": [
    {
     "data": {
      "text/latex": [
       "$4\\;\\text{m}$"
      ],
      "text/plain": [
       "<IPython.core.display.Latex object>"
      ]
     },
     "metadata": {},
     "output_type": "display_data"
    },
    {
     "data": {
      "text/plain": []
     },
     "execution_count": 17,
     "metadata": {},
     "output_type": "execute_result"
    }
   ],
   "source": [
    "d1 = Quantity(3/2, 'mm')\n",
    "d2 = Quantity(1/2, 'mm')\n",
    "S = pi * (d1**2 - d2**2)\n",
    "\n",
    "\n",
    "L = R * S / ro\n",
    "(L)"
   ]
  },
  {
   "cell_type": "code",
   "execution_count": 18,
   "metadata": {},
   "outputs": [
    {
     "data": {
      "text/latex": [
       "$8.5714\\;\\text{Ω}$"
      ],
      "text/plain": [
       "<IPython.core.display.Latex object>"
      ]
     },
     "metadata": {},
     "output_type": "display_data"
    },
    {
     "data": {
      "text/latex": [
       "$120\\;\\text{V}$"
      ],
      "text/plain": [
       "<IPython.core.display.Latex object>"
      ]
     },
     "metadata": {},
     "output_type": "display_data"
    },
    {
     "data": {
      "text/latex": [
       "$6\\;\\text{A}$"
      ],
      "text/plain": [
       "<IPython.core.display.Latex object>"
      ]
     },
     "metadata": {},
     "output_type": "display_data"
    },
    {
     "data": {
      "text/latex": [
       "$8\\;\\text{A}$"
      ],
      "text/plain": [
       "<IPython.core.display.Latex object>"
      ]
     },
     "metadata": {},
     "output_type": "display_data"
    },
    {
     "data": {
      "text/plain": [
       "(, , , )"
      ]
     },
     "execution_count": 18,
     "metadata": {},
     "output_type": "execute_result"
    }
   ],
   "source": [
    "RA = Quantity(10, 'ohm')\n",
    "RB = Quantity(2, 'ohm')\n",
    "RC = Quantity(5, 'ohm')\n",
    "RD = Quantity(18, 'ohm')\n",
    "\n",
    "Rg = RA+RC\n",
    "Rb = RB+RD\n",
    "Req = (1/(Rg) + 1/(Rb))**-1\n",
    "#R345 = (1/R3 + 1/R4 + 1/R5)**-1\n",
    "\n",
    "I1 = Quantity(14, 'A') \n",
    "V_AB = I1*(Req)\n",
    "I_goi = V_AB/Rg\n",
    "I_behe = V_AB/Rb\n",
    "\n",
    "Req, V_AB, I_behe, I_goi"
   ]
  },
  {
   "cell_type": "code",
   "execution_count": 58,
   "metadata": {},
   "outputs": [
    {
     "name": "stdout",
     "output_type": "stream",
     "text": [
      "10.0\n",
      "0.3\n",
      "1.0\n",
      "10.44030650891055\n"
     ]
    }
   ],
   "source": [
    "A=DirectMeasure(10.29183772, 02.6499999999999, 'kg')\n",
    "from pyhsics.measure.operator_measure import MeasureAlgebraicOperator as MAO\n",
    "\n",
    "B = DirectMeasure(1, 0, '1')\n",
    "\n",
    "(v1, e1, unit1), (v2, e2, unit2) = MAO._init(A,B)\n",
    "new_value  = abs(v1 * v2)\n",
    "print(new_value)\n",
    "rel_error1 = e1 / abs(v1) if v1 else 0\n",
    "print(rel_error1)\n",
    "\n",
    "rel_error2 = e2 / abs(v2) if v2 else 0\n",
    "print(rel_error2)\n",
    "\n",
    "new_error = new_value * sqrt(rel_error1 ** 2 + rel_error2 ** 2)\n",
    "print(new_error)\n",
    "\n"
   ]
  },
  {
   "cell_type": "code",
   "execution_count": 20,
   "metadata": {},
   "outputs": [
    {
     "data": {
      "text/latex": [
       "$52\\;\\text{V}$"
      ],
      "text/plain": [
       "<IPython.core.display.Latex object>"
      ]
     },
     "metadata": {},
     "output_type": "display_data"
    },
    {
     "data": {
      "text/plain": []
     },
     "execution_count": 20,
     "metadata": {},
     "output_type": "execute_result"
    }
   ],
   "source": [
    "V_AB + (I_behe*RB- I_goi *RA)"
   ]
  },
  {
   "cell_type": "code",
   "execution_count": 21,
   "metadata": {},
   "outputs": [
    {
     "data": {
      "text/plain": [
       "True"
      ]
     },
     "execution_count": 21,
     "metadata": {},
     "output_type": "execute_result"
    }
   ],
   "source": [
    "Quantity(27.9, 'kJ') == Quantity(30**2 + 30**3, 'W*s')"
   ]
  },
  {
   "cell_type": "code",
   "execution_count": 22,
   "metadata": {},
   "outputs": [
    {
     "data": {
      "text/latex": [
       "$0.0024\\;\\text{C}$"
      ],
      "text/plain": [
       "<IPython.core.display.Latex object>"
      ]
     },
     "metadata": {},
     "output_type": "display_data"
    },
    {
     "data": {
      "text/plain": []
     },
     "execution_count": 22,
     "metadata": {},
     "output_type": "execute_result"
    }
   ],
   "source": [
    "C = Quantity(20, 'uF')\n",
    "V = Quantity(200, 'V')\n",
    "R = Quantity(1000, 'ohm')\n",
    "t = Quantity(10, 'ms')\n",
    "e = Constants().E\n",
    "Q = V * C*(e ** -(t / (R*C)))\n",
    "Q"
   ]
  },
  {
   "cell_type": "code",
   "execution_count": 23,
   "metadata": {},
   "outputs": [
    {
     "data": {
      "text/latex": [
       "$10^{-6}\\;\\text{m}^{3}$"
      ],
      "text/plain": [
       "<IPython.core.display.Latex object>"
      ]
     },
     "metadata": {},
     "output_type": "display_data"
    },
    {
     "data": {
      "text/plain": []
     },
     "execution_count": 23,
     "metadata": {},
     "output_type": "execute_result"
    }
   ],
   "source": [
    "mL = ScalarQuantity(1, 'mL')\n",
    "mL"
   ]
  },
  {
   "cell_type": "code",
   "execution_count": 24,
   "metadata": {},
   "outputs": [
    {
     "data": {
      "text/latex": [
       "$10^{-6}\\;\\text{m}^{3}$"
      ],
      "text/plain": [
       "<IPython.core.display.Latex object>"
      ]
     },
     "metadata": {},
     "output_type": "display_data"
    },
    {
     "data": {
      "text/plain": []
     },
     "execution_count": 24,
     "metadata": {},
     "output_type": "execute_result"
    }
   ],
   "source": [
    "cm3 = ScalarQuantity(1, 'cm**3')\n",
    "cm3.value.value, cm3.units.composition.unit_dict\n",
    "mL"
   ]
  },
  {
   "cell_type": "code",
   "execution_count": 25,
   "metadata": {},
   "outputs": [
    {
     "name": "stdout",
     "output_type": "stream",
     "text": [
      "C\n"
     ]
    }
   ],
   "source": [
    "print(Unit('V*F'))"
   ]
  },
  {
   "cell_type": "code",
   "execution_count": 26,
   "metadata": {},
   "outputs": [],
   "source": [
    "eps1 = Quantity(18, 'V')\n",
    "eps2 = Quantity(6, 'V')\n",
    "RA = Quantity(4, 'ohm')\n",
    "RB = Quantity(6, 'ohm')\n",
    "RC = Quantity(8, 'ohm')"
   ]
  },
  {
   "cell_type": "code",
   "execution_count": 27,
   "metadata": {},
   "outputs": [
    {
     "data": {
      "text/latex": [
       "$0.0018\\;\\text{T}$"
      ],
      "text/plain": [
       "<IPython.core.display.Latex object>"
      ]
     },
     "metadata": {},
     "output_type": "display_data"
    },
    {
     "data": {
      "text/plain": []
     },
     "execution_count": 27,
     "metadata": {},
     "output_type": "execute_result"
    }
   ],
   "source": [
    "I1 = Quantity(115, 'A')\n",
    "r = Quantity(0.85, 'cm')\n",
    "d = Quantity(0.55, 'cm')\n",
    "pi = Constants().PI\n",
    "mu0 = Constants().mu0\n",
    "j = I1/(pi*r**2)\n",
    "B = mu0*I1*d/(2*pi*r**2)\n",
    "B"
   ]
  },
  {
   "cell_type": "code",
   "execution_count": null,
   "metadata": {},
   "outputs": [],
   "source": []
  },
  {
   "cell_type": "code",
   "execution_count": 28,
   "metadata": {},
   "outputs": [
    {
     "data": {
      "text/latex": [
       "$\\text{V/m}$"
      ],
      "text/plain": [
       "<IPython.core.display.Latex object>"
      ]
     },
     "metadata": {},
     "output_type": "display_data"
    },
    {
     "data": {
      "text/plain": []
     },
     "execution_count": 28,
     "metadata": {},
     "output_type": "execute_result"
    }
   ],
   "source": [
    "B = VectorQuantity([0,0,-1.2], 'T')\n",
    "v = VectorQuantity([5e4, 0, 0], 'm/s')\n",
    "q = Constants().e_\n",
    "Unit('V/m = V/m')\n",
    "E = -v.cross(B)\n",
    "(E.units)"
   ]
  },
  {
   "cell_type": "code",
   "execution_count": 29,
   "metadata": {},
   "outputs": [
    {
     "data": {
      "text/latex": [
       "$5.2157 \\cdot 10^{-7}\\;\\text{C}$"
      ],
      "text/plain": [
       "<IPython.core.display.Latex object>"
      ]
     },
     "metadata": {},
     "output_type": "display_data"
    },
    {
     "data": {
      "text/plain": []
     },
     "execution_count": 29,
     "metadata": {},
     "output_type": "execute_result"
    }
   ],
   "source": [
    "from math import tan, acos\n",
    "\n",
    "m = Quantity(1,'g')\n",
    "l = Quantity(55, 'cm')\n",
    "E = Quantity(15e3, 'N/C= N/C')\n",
    "dy = l - Quantity(12, 'cm')\n",
    "g = Quantity(9.81, 'm/s**2')\n",
    "tht = acos(dy/l)\n",
    "(m*g*tan(tht)/E)\n"
   ]
  },
  {
   "cell_type": "code",
   "execution_count": 30,
   "metadata": {},
   "outputs": [
    {
     "data": {
      "text/latex": [
       "$2.1827 \\cdot 10^{6}\\;\\text{Ω}$"
      ],
      "text/plain": [
       "<IPython.core.display.Latex object>"
      ]
     },
     "metadata": {},
     "output_type": "display_data"
    },
    {
     "data": {
      "text/plain": []
     },
     "execution_count": 30,
     "metadata": {},
     "output_type": "execute_result"
    }
   ],
   "source": [
    "from math import log\n",
    "t = Quantity(4, 's')\n",
    "C = Quantity(2, 'uF')\n",
    "eps = Quantity(50, 'V')\n",
    "Vr = Quantity(20, 'V')\n",
    "Vc = eps-Vr\n",
    "Q0 = V*C\n",
    "Q4 = Vc*C\n",
    "-t / (C*log(1-Vc/eps))"
   ]
  },
  {
   "cell_type": "code",
   "execution_count": 31,
   "metadata": {},
   "outputs": [
    {
     "data": {
      "text/latex": [
       "$5 \\cdot 10^{6}\\;\\text{m} \\cdot \\text{s}^{-1}$"
      ],
      "text/plain": [
       "<IPython.core.display.Latex object>"
      ]
     },
     "metadata": {},
     "output_type": "display_data"
    },
    {
     "data": {
      "text/plain": []
     },
     "execution_count": 31,
     "metadata": {},
     "output_type": "execute_result"
    }
   ],
   "source": [
    "B = Quantity(0.1, 'T')\n",
    "E = Quantity(500, 'kV/m')\n",
    "v = E/B\n",
    "v"
   ]
  },
  {
   "cell_type": "code",
   "execution_count": 32,
   "metadata": {},
   "outputs": [
    {
     "data": {
      "text/latex": [
       "$1.6977 \\cdot 10^{4}\\;$"
      ],
      "text/plain": [
       "<IPython.core.display.Latex object>"
      ]
     },
     "metadata": {},
     "output_type": "display_data"
    },
    {
     "data": {
      "text/plain": []
     },
     "execution_count": 32,
     "metadata": {},
     "output_type": "execute_result"
    }
   ],
   "source": [
    "B = Quantity(0.3, 'T')\n",
    "L = Quantity(32, 'cm')\n",
    "r = Quantity(0.9, 'cm')\n",
    "I1 = Quantity(4.5, 'A')\n",
    "\n",
    "n = B / (mu0 * I1) * L\n",
    "(n)"
   ]
  },
  {
   "cell_type": "code",
   "execution_count": 33,
   "metadata": {},
   "outputs": [
    {
     "data": {
      "text/latex": [
       "$12.1951\\;\\text{V}$"
      ],
      "text/plain": [
       "<IPython.core.display.Latex object>"
      ]
     },
     "metadata": {},
     "output_type": "display_data"
    },
    {
     "data": {
      "text/plain": []
     },
     "execution_count": 33,
     "metadata": {},
     "output_type": "execute_result"
    }
   ],
   "source": [
    "RA = Quantity(10, 'Ohm')\n",
    "RB = Quantity(5, 'Ohm')\n",
    "RC = Quantity(3, 'Ohm')\n",
    "RD = Quantity(6, 'Ohm')\n",
    "RE = Quantity(2, 'Ohm')\n",
    "RF = Quantity(20, 'Ohm')\n",
    "Vab = Quantity(100, 'V')\n",
    "\n",
    "R_23 = (RB**-1 + RC**-1 + RD**-1)**-1\n",
    "R_goi = R_23 + RE\n",
    "R_tot = ((R_goi)**-1 + RF**-1)**-1\n",
    "\n",
    "I_tot = Vab/RA\n",
    "V_24 = I_tot*R_tot\n",
    "I_goi = V_24/(R_23 + RE)\n",
    "V_CD = I_goi * R_23\n",
    "V_CD"
   ]
  },
  {
   "cell_type": "code",
   "execution_count": 34,
   "metadata": {},
   "outputs": [
    {
     "data": {
      "text/latex": [
       "$\\displaystyle \\frac{V}{I_{1}} = (1002 \\pm 3)\\;\\;\\text{Ω}$"
      ],
      "text/plain": [
       "<IPython.core.display.Latex object>"
      ]
     },
     "metadata": {},
     "output_type": "display_data"
    },
    {
     "data": {
      "text/latex": [
       "$\\displaystyle \\frac{V}{I_{2}} =  (12 \\pm 3) \\cdot 10^{5} \\;\\;\\text{Ω}$"
      ],
      "text/plain": [
       "<IPython.core.display.Latex object>"
      ]
     },
     "metadata": {},
     "output_type": "display_data"
    },
    {
     "data": {
      "text/plain": [
       "(, )"
      ]
     },
     "execution_count": 34,
     "metadata": {},
     "output_type": "execute_result"
    }
   ],
   "source": [
    "# LABURRA\n",
    "\n",
    "V = DirectMeasure(5.00, 0.01, 'V')\n",
    "I1 = DirectMeasure(4.99, 0.01, 'mA')\n",
    "I2 = DirectMeasure(4, 1, 'uA')\n",
    "\n",
    "values = {\n",
    "    'V': V,\n",
    "    'I1': I1,\n",
    "    'I2': I2\n",
    "}\n",
    "\n",
    "R_1k = CalculatedMeasure('V/I1', values)\n",
    "R_1M = CalculatedMeasure('V/I2', values)\n",
    "\n",
    "R_1k, (R_1M)"
   ]
  },
  {
   "cell_type": "code",
   "execution_count": 35,
   "metadata": {},
   "outputs": [
    {
     "name": "stdout",
     "output_type": "stream",
     "text": [
      "True\n"
     ]
    },
    {
     "data": {
      "text/latex": [
       "$\\displaystyle R_{1} + R_{2} = (5.04 \\pm 0.01)\\;\\;\\text{V}$"
      ],
      "text/plain": [
       "<IPython.core.display.Latex object>"
      ]
     },
     "metadata": {},
     "output_type": "display_data"
    },
    {
     "data": {
      "text/plain": []
     },
     "execution_count": 35,
     "metadata": {},
     "output_type": "execute_result"
    }
   ],
   "source": [
    "### 100 eta 200 Ω-eko erresistentziak\n",
    "\n",
    "R1 = DirectMeasure(99.2, 0.1, 'ohm')\n",
    "R2 = DirectMeasure(100, 1, 'ohm')\n",
    "\n",
    "VR1 = DirectMeasure(2.52, 0.01, 'V')\n",
    "VR2 = DirectMeasure(2.52, 0.01, 'V')\n",
    "VR13 = DirectMeasure(5.05, 0.01, 'V')\n",
    "print(VR1 + VR2 == VR13)\n",
    "\n",
    "CalculatedMeasure('R1 + R2', {'R1': VR1, 'R2': VR2})\n"
   ]
  },
  {
   "cell_type": "code",
   "execution_count": 36,
   "metadata": {},
   "outputs": [
    {
     "name": "stdout",
     "output_type": "stream",
     "text": [
      "True\n"
     ]
    },
    {
     "data": {
      "text/latex": [
       "$(5 \\pm 3)\\;\\;\\text{V}$"
      ],
      "text/plain": [
       "<IPython.core.display.Latex object>"
      ]
     },
     "metadata": {},
     "output_type": "display_data"
    },
    {
     "data": {
      "text/plain": []
     },
     "execution_count": 36,
     "metadata": {},
     "output_type": "execute_result"
    }
   ],
   "source": [
    "### 100 eta 200 kΩ-eko erresistentziak\n",
    "\n",
    "R1 = DirectMeasure(99.6, 0.1, 'kohm')\n",
    "R2 = DirectMeasure(100.1, 0.1, 'kohm')\n",
    "\n",
    "VR1 = DirectMeasure(2.51, 0.01, 'V')\n",
    "VR2 = DirectMeasure(2.52, 0.01, 'V')\n",
    "VR13 = DirectMeasure(5.05, 0.01, 'V')\n",
    "\n",
    "print(VR1 + VR2 == VR13)\n",
    "\n",
    "VR1 + VR2"
   ]
  },
  {
   "cell_type": "code",
   "execution_count": 37,
   "metadata": {},
   "outputs": [
    {
     "name": "stdout",
     "output_type": "stream",
     "text": [
      "True\n"
     ]
    },
    {
     "data": {
      "text/latex": [
       "$(5 \\pm 2)\\;\\;\\text{V}$"
      ],
      "text/plain": [
       "<IPython.core.display.Latex object>"
      ]
     },
     "metadata": {},
     "output_type": "display_data"
    },
    {
     "data": {
      "text/plain": []
     },
     "execution_count": 37,
     "metadata": {},
     "output_type": "execute_result"
    }
   ],
   "source": [
    "### 100 eta 200 MΩ-eko erresistentziak\n",
    "\n",
    "R1 = DirectMeasure(1.037, 0.001, 'Mohm')\n",
    "R2 = DirectMeasure(1.007, 0.001, 'Mohm')\n",
    "\n",
    "VR1 = DirectMeasure(2.445, 0.01, 'V')\n",
    "VR2 = DirectMeasure(2.377, 0.01, 'V')\n",
    "VR13 = DirectMeasure(5.044, 0.01, 'V')\n",
    "\n",
    "print(VR1 + VR2 == VR13)\n",
    "\n",
    "VR1 + VR2"
   ]
  },
  {
   "cell_type": "code",
   "execution_count": 38,
   "metadata": {},
   "outputs": [
    {
     "data": {
      "text/latex": [
       "$\\displaystyle \\frac{V}{I} = (9.6 \\pm 0.02)\\;\\;\\text{Ω}$"
      ],
      "text/plain": [
       "<IPython.core.display.Latex object>"
      ]
     },
     "metadata": {},
     "output_type": "display_data"
    },
    {
     "data": {
      "text/plain": []
     },
     "execution_count": 38,
     "metadata": {},
     "output_type": "execute_result"
    }
   ],
   "source": [
    "V = DirectMeasure(452.2, 0.1, 'mV')\n",
    "I1 = DirectMeasure(47.1, 0.1, 'mA')\n",
    "\n",
    "values = {\n",
    "    'V': V,\n",
    "    'I': I1,\n",
    "}\n",
    "\n",
    "R1 = CalculatedMeasure('V/I', values)\n",
    "\n",
    "R1"
   ]
  },
  {
   "cell_type": "code",
   "execution_count": 39,
   "metadata": {},
   "outputs": [
    {
     "data": {
      "text/latex": [
       "$150.1531\\;\\text{V}$"
      ],
      "text/plain": [
       "<IPython.core.display.Latex object>"
      ]
     },
     "metadata": {},
     "output_type": "display_data"
    },
    {
     "data": {
      "text/latex": [
       "$4.9847\\;\\text{Ω}$"
      ],
      "text/plain": [
       "<IPython.core.display.Latex object>"
      ]
     },
     "metadata": {},
     "output_type": "display_data"
    },
    {
     "data": {
      "text/plain": [
       "(, )"
      ]
     },
     "execution_count": 39,
     "metadata": {},
     "output_type": "execute_result"
    }
   ],
   "source": [
    "eps = Quantity(550, 'V')\n",
    "r = Quantity(15, 'ohm')\n",
    "R = Quantity(20, 'ohm')\n",
    "V_R = Quantity(200, 'V')\n",
    "m = Quantity(1500, 'kg')\n",
    "g = Quantity(9.81, 'm/s**2')\n",
    "v = Quantity(0.1, 'm/s')\n",
    "\n",
    "# Potentzia mekanikoa = F*v = m*g*v\n",
    "P_m = m*g*v\n",
    "\n",
    "# Zirkuituaren intentsitatea kte da:\n",
    "I1 = V_R/R\n",
    "\n",
    "# Potentzia elektrikoaren % 98 \n",
    "# mekanikoa bihurtzen da:\n",
    "# Pm = Pe*0.98 => \n",
    "P_e = P_m/0.98\n",
    "\n",
    "# Pe = V*I => V = eps' = Pe / I\n",
    "eps_ = P_e/I1\n",
    "\n",
    "# Kirchoff (2):\n",
    "# eps = V_R + eps' + V_r + V_r' \n",
    "V_r = I1 * r\n",
    "\n",
    "V_r_ = eps - V_R - eps_ - V_r\n",
    "\n",
    "r_ = V_r_ / I1\n",
    "\n",
    "\n",
    "eps_, r_"
   ]
  },
  {
   "cell_type": "code",
   "execution_count": 40,
   "metadata": {},
   "outputs": [
    {
     "data": {
      "text/latex": [
       "$49.8469\\;\\text{V}$"
      ],
      "text/plain": [
       "<IPython.core.display.Latex object>"
      ]
     },
     "metadata": {},
     "output_type": "display_data"
    },
    {
     "data": {
      "text/plain": []
     },
     "execution_count": 40,
     "metadata": {},
     "output_type": "execute_result"
    }
   ],
   "source": [
    "V_r_"
   ]
  },
  {
   "cell_type": "code",
   "execution_count": 41,
   "metadata": {},
   "outputs": [
    {
     "data": {
      "text/latex": [
       "$4.6154 \\cdot 10^{-4}\\;\\text{T}$"
      ],
      "text/plain": [
       "<IPython.core.display.Latex object>"
      ]
     },
     "metadata": {},
     "output_type": "display_data"
    },
    {
     "data": {
      "text/plain": []
     },
     "execution_count": 41,
     "metadata": {},
     "output_type": "execute_result"
    }
   ],
   "source": [
    "N = Quantity(100)\n",
    "I1 = Quantity(3, 'A')\n",
    "\n",
    "a = Quantity(12, 'cm')\n",
    "b = Quantity(15, 'cm')\n",
    "r = Quantity(13, 'cm')\n",
    "\n",
    "mu0 = Constants().mu0\n",
    "pi = Constants().PI\n",
    "diametro_espira = b-a\n",
    "radio_espira = diametro_espira/2\n",
    "\n",
    "S = pi*radio_espira**2\n",
    "\n",
    "B = mu0 * N * I1 / (2*pi*r)\n",
    "\n",
    "B"
   ]
  },
  {
   "cell_type": "code",
   "execution_count": 42,
   "metadata": {},
   "outputs": [
    {
     "data": {
      "text/latex": [
       "$\\displaystyle \\frac{T_{erd}}{ln_{2}} = (20.28 \\pm 0.07)\\;\\;\\text{s}$"
      ],
      "text/plain": [
       "<IPython.core.display.Latex object>"
      ]
     },
     "metadata": {},
     "output_type": "display_data"
    },
    {
     "data": {
      "text/plain": []
     },
     "execution_count": 42,
     "metadata": {},
     "output_type": "execute_result"
    }
   ],
   "source": [
    "T_erdia = DirectMeasure(14.06,\t0.05, 's')\n",
    "ln2 = DirectMeasure(0.69315, 0.00001)\n",
    "\n",
    "values = {'T_erd': T_erdia,\n",
    "          'ln2': ln2}\n",
    "\n",
    "\n",
    "RC1 = CalculatedMeasure('RC1 = T_erd / ln2', values)\n",
    "RC1"
   ]
  },
  {
   "cell_type": "code",
   "execution_count": 43,
   "metadata": {},
   "outputs": [
    {
     "data": {
      "text/latex": [
       "$\\displaystyle - \\frac{1}{RC} = (20.2 \\pm 0.2)\\;\\;\\text{s}$"
      ],
      "text/plain": [
       "<IPython.core.display.Latex object>"
      ]
     },
     "metadata": {},
     "output_type": "display_data"
    },
    {
     "data": {
      "text/plain": []
     },
     "execution_count": 43,
     "metadata": {},
     "output_type": "execute_result"
    }
   ],
   "source": [
    "malda = DirectMeasure(-0.04942, 0.00040631, '1/(ohm*F)')\n",
    "RC2 = CalculatedMeasure('RC2 = -1/RC', {'RC': malda})\n",
    "RC2"
   ]
  },
  {
   "cell_type": "code",
   "execution_count": 44,
   "metadata": {},
   "outputs": [
    {
     "data": {
      "text/latex": [
       "$\\displaystyle C R_{M} = (21 \\pm 1)\\;\\;\\text{s}$"
      ],
      "text/plain": [
       "<IPython.core.display.Latex object>"
      ]
     },
     "metadata": {},
     "output_type": "display_data"
    },
    {
     "data": {
      "text/plain": []
     },
     "execution_count": 44,
     "metadata": {},
     "output_type": "execute_result"
    }
   ],
   "source": [
    "R = DirectMeasure(1.05, 0.01, 'Mohm')\n",
    "R_mul = DirectMeasure(11.07, 0.01, 'Mohm')\n",
    "R_eq = CalculatedMeasure('R_eq = 1/(1/R_r + 1/R_M)', {'R_r': R, 'R_M': R_mul})\n",
    "C = DirectMeasure(22, 1, 'uF')\n",
    "RC3 = CalculatedMeasure('RC3 = R_M*C', {'R_M': R_eq, 'C': C})\n",
    "RC3"
   ]
  },
  {
   "cell_type": "code",
   "execution_count": 45,
   "metadata": {},
   "outputs": [
    {
     "data": {
      "text/latex": [
       "$\\displaystyle \\frac{T_{E}}{ln_{2}} = (216 \\pm 3)\\;\\;\\text{s}$"
      ],
      "text/plain": [
       "<IPython.core.display.Latex object>"
      ]
     },
     "metadata": {},
     "output_type": "display_data"
    },
    {
     "data": {
      "text/plain": []
     },
     "execution_count": 45,
     "metadata": {},
     "output_type": "execute_result"
    }
   ],
   "source": [
    "T_erdia = DirectMeasure(60*2 + 28.88,\t0.01, 's')\n",
    "ln2 = DirectMeasure(0.69, 0.01)\n",
    "\n",
    "values = {'T_E': T_erdia,\n",
    "          'ln2': ln2}\n",
    "\n",
    "RC4 = CalculatedMeasure('RC4 = T_E/ln2', values)\n",
    "RC4"
   ]
  },
  {
   "cell_type": "code",
   "execution_count": 46,
   "metadata": {},
   "outputs": [
    {
     "data": {
      "text/latex": [
       "$(240 \\pm 10)\\;\\;\\text{s}$"
      ],
      "text/plain": [
       "<IPython.core.display.Latex object>"
      ]
     },
     "metadata": {},
     "output_type": "display_data"
    },
    {
     "data": {
      "text/plain": []
     },
     "execution_count": 46,
     "metadata": {},
     "output_type": "execute_result"
    }
   ],
   "source": [
    "R_mul = DirectMeasure(11.07, 0.01, 'Mohm')\n",
    "C = DirectMeasure(22, 1, 'uF')\n",
    "RC5 = CalculatedMeasure('RC5 = R*C', {'R': R_mul, 'C': C})\n",
    "RC5.as_direct_measure()"
   ]
  },
  {
   "cell_type": "code",
   "execution_count": 47,
   "metadata": {},
   "outputs": [
    {
     "data": {
      "image/png": "[encoded data removed]",
      "text/plain": [
       "<Figure size 900x300 with 1 Axes>"
      ]
     },
     "metadata": {},
     "output_type": "display_data"
    },
    {
     "data": {
      "image/png": "[encoded data removed]",
      "text/plain": [
       "<Figure size 900x300 with 1 Axes>"
      ]
     },
     "metadata": {},
     "output_type": "display_data"
    }
   ],
   "source": [
    "from pyhsics.plotter import MultiMeasurePlotter, MeasurePlotter\n",
    "measures= [\n",
    "    RC1,\n",
    "    RC2,\n",
    "    RC3\n",
    "]\n",
    "measures2= [\n",
    "    RC4,\n",
    "    RC5\n",
    "]\n",
    "\n",
    "MultiMeasurePlotter.from_measures(measures, True).plot()\n",
    "MultiMeasurePlotter.from_measures(measures2, False).plot()"
   ]
  },
  {
   "cell_type": "code",
   "execution_count": 48,
   "metadata": {},
   "outputs": [
    {
     "data": {
      "text/plain": [
       "True"
      ]
     },
     "execution_count": 48,
     "metadata": {},
     "output_type": "execute_result"
    }
   ],
   "source": [
    "RC1 == RC2"
   ]
  },
  {
   "cell_type": "code",
   "execution_count": 49,
   "metadata": {},
   "outputs": [
    {
     "data": {
      "text/latex": [
       "$\\begin{pmatrix} 1 & 2 & 3 \\\\ 4 & 5 & 6 \\\\ 7 & 8 & 9 \\end{pmatrix}\\;\\text{N}$"
      ],
      "text/plain": [
       "<IPython.core.display.Latex object>"
      ]
     },
     "metadata": {},
     "output_type": "display_data"
    },
    {
     "data": {
      "text/plain": []
     },
     "execution_count": 49,
     "metadata": {},
     "output_type": "execute_result"
    }
   ],
   "source": [
    "from pyhsics.quantity.matrix_quantity import MatrixQuantity\n",
    "\n",
    "M = Matrix([[1,2,3],\n",
    "        [4,5,6],\n",
    "        [7,8,9]])\n",
    "\n",
    "U = Unit('g*mm/ms**2')\n",
    "MatrixQuantity(M, U)"
   ]
  },
  {
   "cell_type": "code",
   "execution_count": 50,
   "metadata": {},
   "outputs": [
    {
     "ename": "TypeError",
     "evalue": "'Matrix' object does not support item assignment",
     "output_type": "error",
     "traceback": [
      "\u001b[31m---------------------------------------------------------------------------\u001b[39m",
      "\u001b[31mTypeError\u001b[39m                                 Traceback (most recent call last)",
      "\u001b[36mCell\u001b[39m\u001b[36m \u001b[39m\u001b[32mIn[50]\u001b[39m\u001b[32m, line 8\u001b[39m\n\u001b[32m      2\u001b[39m     M[\u001b[32m0\u001b[39m] = \u001b[32m1\u001b[39m\n\u001b[32m      6\u001b[39m     \u001b[38;5;28;01mreturn\u001b[39;00m M_\n\u001b[32m----> \u001b[39m\u001b[32m8\u001b[39m \u001b[43mtriangularice\u001b[49m\u001b[43m(\u001b[49m\u001b[43mM\u001b[49m\u001b[43m)\u001b[49m    \n",
      "\u001b[36mCell\u001b[39m\u001b[36m \u001b[39m\u001b[32mIn[50]\u001b[39m\u001b[32m, line 2\u001b[39m, in \u001b[36mtriangularice\u001b[39m\u001b[34m(M)\u001b[39m\n\u001b[32m      1\u001b[39m \u001b[38;5;28;01mdef\u001b[39;00m\u001b[38;5;250m \u001b[39m\u001b[34mtriangularice\u001b[39m(M: Matrix):\n\u001b[32m----> \u001b[39m\u001b[32m2\u001b[39m     \u001b[43mM\u001b[49m\u001b[43m[\u001b[49m\u001b[32;43m0\u001b[39;49m\u001b[43m]\u001b[49m = \u001b[32m1\u001b[39m\n\u001b[32m      6\u001b[39m     \u001b[38;5;28;01mreturn\u001b[39;00m M_\n",
      "\u001b[31mTypeError\u001b[39m: 'Matrix' object does not support item assignment"
     ]
    }
   ],
   "source": [
    "def triangularice(M: Matrix):\n",
    "    M[0] = 1\n",
    "    \n",
    "    \n",
    "    \n",
    "    return M_\n",
    "    \n",
    "triangularice(M)    "
   ]
  }
 ],
 "metadata": {
  "kernelspec": {
   "display_name": ".venv (3.13.2)",
   "language": "python",
   "name": "python3"
  },
  "language_info": {
   "codemirror_mode": {
    "name": "ipython",
    "version": 3
   },
   "file_extension": ".py",
   "mimetype": "text/x-python",
   "name": "python",
   "nbconvert_exporter": "python",
   "pygments_lexer": "ipython3",
   "version": "3.13.2"
  }
 },
 "nbformat": 4,
 "nbformat_minor": 2
}
